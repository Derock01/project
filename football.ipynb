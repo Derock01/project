{
 "cells": [
  {
   "cell_type": "markdown",
   "id": "2ec6b27d-eda6-4ad7-bf6b-bdd6645ee17f",
   "metadata": {},
   "source": [
    "# FOOTBALL DATA ANALYSIS"
   ]
  },
  {
   "cell_type": "markdown",
   "id": "cf4e52ed-d1ba-40b4-b0af-21ec122c6e25",
   "metadata": {},
   "source": [
    "### Player: The name of the football player (e.g., Bukayo Saka).\n",
    "### Team: The team the player is associated with (e.g., Arsenal).\n",
    "### Nation: The nationality of the player (e.g., England).\n",
    "### Pos: The player's position on the field (e.g., Forward/Midfielder).\n",
    "### Age: The age of the player.\n",
    "### MP: Total number of matches played by the player.\n",
    "### Starts: Number of matches where the player was in the starting lineup.\n",
    "### Min: Total minutes played by the player.\n",
    "### 90s: Total minutes played by the player divided by 90 (standard match duration).\n",
    "### Gls: Total number of goals scored by the player.\n",
    " ### ... (and so on): It seems there are more columns not explicitly listed in your excerpt, but they likely contain additional statistical information such as assists, expected goals (xG), non-penalty expected goals (npxG), expected assists (xA), etc.\n",
    "### To make it more readable for documentation purposes, you could consider providing a brief description of each column, specifying the unit of measurement where applicable, and explaining any abbreviations used. For example:\n",
    "\n",
    "### G+A-PK: Goals plus Assists excluding Penalty kicks.\n",
    "### xG: Expected Goals, a statistical measure of the quality of goal-scoring chances.\n",
    "### npxG: Non-Penalty Expected Goals, similar to xG but excluding penalty kicks.\n",
    "### xA: Expected Assists, a statistical measure of the quality of chances created leading to goals."
   ]
  },
  {
   "cell_type": "code",
   "execution_count": 1,
   "id": "45c145d6-41b4-4d2c-8797-b81bb2694e03",
   "metadata": {
    "tags": []
   },
   "outputs": [],
   "source": [
    "import pandas as pd\n",
    "import numpy as np\n",
    "import matplotlib.pyplot as plt\n",
    "import seaborn as sns"
   ]
  },
  {
   "cell_type": "code",
   "execution_count": 2,
   "id": "e730431d-960b-427d-bfb5-002e68cdc6e3",
   "metadata": {
    "tags": []
   },
   "outputs": [
    {
     "data": {
      "text/html": [
       "<div>\n",
       "<style scoped>\n",
       "    .dataframe tbody tr th:only-of-type {\n",
       "        vertical-align: middle;\n",
       "    }\n",
       "\n",
       "    .dataframe tbody tr th {\n",
       "        vertical-align: top;\n",
       "    }\n",
       "\n",
       "    .dataframe thead th {\n",
       "        text-align: right;\n",
       "    }\n",
       "</style>\n",
       "<table border=\"1\" class=\"dataframe\">\n",
       "  <thead>\n",
       "    <tr style=\"text-align: right;\">\n",
       "      <th></th>\n",
       "      <th>Player</th>\n",
       "      <th>Team</th>\n",
       "      <th>Nation</th>\n",
       "      <th>Pos</th>\n",
       "      <th>Age</th>\n",
       "      <th>MP</th>\n",
       "      <th>Starts</th>\n",
       "      <th>Min</th>\n",
       "      <th>90s</th>\n",
       "      <th>Gls</th>\n",
       "      <th>...</th>\n",
       "      <th>G+A-PK</th>\n",
       "      <th>xG</th>\n",
       "      <th>npxG</th>\n",
       "      <th>xA</th>\n",
       "      <th>npxG+xA</th>\n",
       "      <th>xG.1</th>\n",
       "      <th>xA.1</th>\n",
       "      <th>xG+xA</th>\n",
       "      <th>npxG.1</th>\n",
       "      <th>npxG+xA.1</th>\n",
       "    </tr>\n",
       "  </thead>\n",
       "  <tbody>\n",
       "    <tr>\n",
       "      <th>0</th>\n",
       "      <td>Bukayo Saka</td>\n",
       "      <td>Arsenal</td>\n",
       "      <td>eng ENG</td>\n",
       "      <td>FW,MF</td>\n",
       "      <td>19.0</td>\n",
       "      <td>38</td>\n",
       "      <td>36</td>\n",
       "      <td>2,978</td>\n",
       "      <td>33.1</td>\n",
       "      <td>11.0</td>\n",
       "      <td>...</td>\n",
       "      <td>0.48</td>\n",
       "      <td>9.7</td>\n",
       "      <td>8.2</td>\n",
       "      <td>6.9</td>\n",
       "      <td>15.2</td>\n",
       "      <td>0.29</td>\n",
       "      <td>0.21</td>\n",
       "      <td>0.50</td>\n",
       "      <td>0.25</td>\n",
       "      <td>0.46</td>\n",
       "    </tr>\n",
       "    <tr>\n",
       "      <th>1</th>\n",
       "      <td>Gabriel Dos Santos</td>\n",
       "      <td>Arsenal</td>\n",
       "      <td>br BRA</td>\n",
       "      <td>DF</td>\n",
       "      <td>23.0</td>\n",
       "      <td>35</td>\n",
       "      <td>35</td>\n",
       "      <td>3,063</td>\n",
       "      <td>34.0</td>\n",
       "      <td>5.0</td>\n",
       "      <td>...</td>\n",
       "      <td>0.15</td>\n",
       "      <td>2.7</td>\n",
       "      <td>2.7</td>\n",
       "      <td>0.8</td>\n",
       "      <td>3.5</td>\n",
       "      <td>0.08</td>\n",
       "      <td>0.02</td>\n",
       "      <td>0.10</td>\n",
       "      <td>0.08</td>\n",
       "      <td>0.10</td>\n",
       "    </tr>\n",
       "    <tr>\n",
       "      <th>2</th>\n",
       "      <td>Aaron Ramsdale</td>\n",
       "      <td>Arsenal</td>\n",
       "      <td>eng ENG</td>\n",
       "      <td>GK</td>\n",
       "      <td>23.0</td>\n",
       "      <td>34</td>\n",
       "      <td>34</td>\n",
       "      <td>3,060</td>\n",
       "      <td>34.0</td>\n",
       "      <td>0.0</td>\n",
       "      <td>...</td>\n",
       "      <td>0.00</td>\n",
       "      <td>0.0</td>\n",
       "      <td>0.0</td>\n",
       "      <td>0.0</td>\n",
       "      <td>0.0</td>\n",
       "      <td>0.00</td>\n",
       "      <td>0.00</td>\n",
       "      <td>0.00</td>\n",
       "      <td>0.00</td>\n",
       "      <td>0.00</td>\n",
       "    </tr>\n",
       "    <tr>\n",
       "      <th>3</th>\n",
       "      <td>Ben White</td>\n",
       "      <td>Arsenal</td>\n",
       "      <td>eng ENG</td>\n",
       "      <td>DF</td>\n",
       "      <td>23.0</td>\n",
       "      <td>32</td>\n",
       "      <td>32</td>\n",
       "      <td>2,880</td>\n",
       "      <td>32.0</td>\n",
       "      <td>0.0</td>\n",
       "      <td>...</td>\n",
       "      <td>0.00</td>\n",
       "      <td>1.0</td>\n",
       "      <td>1.0</td>\n",
       "      <td>0.6</td>\n",
       "      <td>1.6</td>\n",
       "      <td>0.03</td>\n",
       "      <td>0.02</td>\n",
       "      <td>0.05</td>\n",
       "      <td>0.03</td>\n",
       "      <td>0.05</td>\n",
       "    </tr>\n",
       "    <tr>\n",
       "      <th>4</th>\n",
       "      <td>Martin Ødegaard</td>\n",
       "      <td>Arsenal</td>\n",
       "      <td>no NOR</td>\n",
       "      <td>MF</td>\n",
       "      <td>22.0</td>\n",
       "      <td>36</td>\n",
       "      <td>32</td>\n",
       "      <td>2,785</td>\n",
       "      <td>30.9</td>\n",
       "      <td>7.0</td>\n",
       "      <td>...</td>\n",
       "      <td>0.36</td>\n",
       "      <td>4.8</td>\n",
       "      <td>4.8</td>\n",
       "      <td>6.8</td>\n",
       "      <td>11.6</td>\n",
       "      <td>0.16</td>\n",
       "      <td>0.22</td>\n",
       "      <td>0.38</td>\n",
       "      <td>0.16</td>\n",
       "      <td>0.38</td>\n",
       "    </tr>\n",
       "    <tr>\n",
       "      <th>...</th>\n",
       "      <td>...</td>\n",
       "      <td>...</td>\n",
       "      <td>...</td>\n",
       "      <td>...</td>\n",
       "      <td>...</td>\n",
       "      <td>...</td>\n",
       "      <td>...</td>\n",
       "      <td>...</td>\n",
       "      <td>...</td>\n",
       "      <td>...</td>\n",
       "      <td>...</td>\n",
       "      <td>...</td>\n",
       "      <td>...</td>\n",
       "      <td>...</td>\n",
       "      <td>...</td>\n",
       "      <td>...</td>\n",
       "      <td>...</td>\n",
       "      <td>...</td>\n",
       "      <td>...</td>\n",
       "      <td>...</td>\n",
       "      <td>...</td>\n",
       "    </tr>\n",
       "    <tr>\n",
       "      <th>686</th>\n",
       "      <td>Christian Marques</td>\n",
       "      <td>Wolverhampton Wanderers</td>\n",
       "      <td>ch SUI</td>\n",
       "      <td>DF</td>\n",
       "      <td>18.0</td>\n",
       "      <td>0</td>\n",
       "      <td>0</td>\n",
       "      <td>NaN</td>\n",
       "      <td>NaN</td>\n",
       "      <td>NaN</td>\n",
       "      <td>...</td>\n",
       "      <td>NaN</td>\n",
       "      <td>NaN</td>\n",
       "      <td>NaN</td>\n",
       "      <td>NaN</td>\n",
       "      <td>NaN</td>\n",
       "      <td>NaN</td>\n",
       "      <td>NaN</td>\n",
       "      <td>NaN</td>\n",
       "      <td>NaN</td>\n",
       "      <td>NaN</td>\n",
       "    </tr>\n",
       "    <tr>\n",
       "      <th>687</th>\n",
       "      <td>Yerson Mosquera</td>\n",
       "      <td>Wolverhampton Wanderers</td>\n",
       "      <td>co COL</td>\n",
       "      <td>DF</td>\n",
       "      <td>20.0</td>\n",
       "      <td>0</td>\n",
       "      <td>0</td>\n",
       "      <td>NaN</td>\n",
       "      <td>NaN</td>\n",
       "      <td>NaN</td>\n",
       "      <td>...</td>\n",
       "      <td>NaN</td>\n",
       "      <td>NaN</td>\n",
       "      <td>NaN</td>\n",
       "      <td>NaN</td>\n",
       "      <td>NaN</td>\n",
       "      <td>NaN</td>\n",
       "      <td>NaN</td>\n",
       "      <td>NaN</td>\n",
       "      <td>NaN</td>\n",
       "      <td>NaN</td>\n",
       "    </tr>\n",
       "    <tr>\n",
       "      <th>688</th>\n",
       "      <td>Louie Moulden</td>\n",
       "      <td>Wolverhampton Wanderers</td>\n",
       "      <td>eng ENG</td>\n",
       "      <td>GK</td>\n",
       "      <td>19.0</td>\n",
       "      <td>0</td>\n",
       "      <td>0</td>\n",
       "      <td>NaN</td>\n",
       "      <td>NaN</td>\n",
       "      <td>NaN</td>\n",
       "      <td>...</td>\n",
       "      <td>NaN</td>\n",
       "      <td>NaN</td>\n",
       "      <td>NaN</td>\n",
       "      <td>NaN</td>\n",
       "      <td>NaN</td>\n",
       "      <td>NaN</td>\n",
       "      <td>NaN</td>\n",
       "      <td>NaN</td>\n",
       "      <td>NaN</td>\n",
       "      <td>NaN</td>\n",
       "    </tr>\n",
       "    <tr>\n",
       "      <th>689</th>\n",
       "      <td>Dion Sanderson</td>\n",
       "      <td>Wolverhampton Wanderers</td>\n",
       "      <td>eng ENG</td>\n",
       "      <td>DF</td>\n",
       "      <td>21.0</td>\n",
       "      <td>0</td>\n",
       "      <td>0</td>\n",
       "      <td>NaN</td>\n",
       "      <td>NaN</td>\n",
       "      <td>NaN</td>\n",
       "      <td>...</td>\n",
       "      <td>NaN</td>\n",
       "      <td>NaN</td>\n",
       "      <td>NaN</td>\n",
       "      <td>NaN</td>\n",
       "      <td>NaN</td>\n",
       "      <td>NaN</td>\n",
       "      <td>NaN</td>\n",
       "      <td>NaN</td>\n",
       "      <td>NaN</td>\n",
       "      <td>NaN</td>\n",
       "    </tr>\n",
       "    <tr>\n",
       "      <th>690</th>\n",
       "      <td>James Storer</td>\n",
       "      <td>Wolverhampton Wanderers</td>\n",
       "      <td>NaN</td>\n",
       "      <td>GK</td>\n",
       "      <td>NaN</td>\n",
       "      <td>0</td>\n",
       "      <td>0</td>\n",
       "      <td>NaN</td>\n",
       "      <td>NaN</td>\n",
       "      <td>NaN</td>\n",
       "      <td>...</td>\n",
       "      <td>NaN</td>\n",
       "      <td>NaN</td>\n",
       "      <td>NaN</td>\n",
       "      <td>NaN</td>\n",
       "      <td>NaN</td>\n",
       "      <td>NaN</td>\n",
       "      <td>NaN</td>\n",
       "      <td>NaN</td>\n",
       "      <td>NaN</td>\n",
       "      <td>NaN</td>\n",
       "    </tr>\n",
       "  </tbody>\n",
       "</table>\n",
       "<p>691 rows × 30 columns</p>\n",
       "</div>"
      ],
      "text/plain": [
       "                 Player                     Team   Nation    Pos   Age  MP  \\\n",
       "0           Bukayo Saka                  Arsenal  eng ENG  FW,MF  19.0  38   \n",
       "1    Gabriel Dos Santos                  Arsenal   br BRA     DF  23.0  35   \n",
       "2        Aaron Ramsdale                  Arsenal  eng ENG     GK  23.0  34   \n",
       "3             Ben White                  Arsenal  eng ENG     DF  23.0  32   \n",
       "4       Martin Ødegaard                  Arsenal   no NOR     MF  22.0  36   \n",
       "..                  ...                      ...      ...    ...   ...  ..   \n",
       "686   Christian Marques  Wolverhampton Wanderers   ch SUI     DF  18.0   0   \n",
       "687     Yerson Mosquera  Wolverhampton Wanderers   co COL     DF  20.0   0   \n",
       "688       Louie Moulden  Wolverhampton Wanderers  eng ENG     GK  19.0   0   \n",
       "689      Dion Sanderson  Wolverhampton Wanderers  eng ENG     DF  21.0   0   \n",
       "690        James Storer  Wolverhampton Wanderers      NaN     GK   NaN   0   \n",
       "\n",
       "     Starts    Min   90s   Gls  ...  G+A-PK   xG  npxG   xA  npxG+xA  xG.1  \\\n",
       "0        36  2,978  33.1  11.0  ...    0.48  9.7   8.2  6.9     15.2  0.29   \n",
       "1        35  3,063  34.0   5.0  ...    0.15  2.7   2.7  0.8      3.5  0.08   \n",
       "2        34  3,060  34.0   0.0  ...    0.00  0.0   0.0  0.0      0.0  0.00   \n",
       "3        32  2,880  32.0   0.0  ...    0.00  1.0   1.0  0.6      1.6  0.03   \n",
       "4        32  2,785  30.9   7.0  ...    0.36  4.8   4.8  6.8     11.6  0.16   \n",
       "..      ...    ...   ...   ...  ...     ...  ...   ...  ...      ...   ...   \n",
       "686       0    NaN   NaN   NaN  ...     NaN  NaN   NaN  NaN      NaN   NaN   \n",
       "687       0    NaN   NaN   NaN  ...     NaN  NaN   NaN  NaN      NaN   NaN   \n",
       "688       0    NaN   NaN   NaN  ...     NaN  NaN   NaN  NaN      NaN   NaN   \n",
       "689       0    NaN   NaN   NaN  ...     NaN  NaN   NaN  NaN      NaN   NaN   \n",
       "690       0    NaN   NaN   NaN  ...     NaN  NaN   NaN  NaN      NaN   NaN   \n",
       "\n",
       "     xA.1  xG+xA  npxG.1  npxG+xA.1  \n",
       "0    0.21   0.50    0.25       0.46  \n",
       "1    0.02   0.10    0.08       0.10  \n",
       "2    0.00   0.00    0.00       0.00  \n",
       "3    0.02   0.05    0.03       0.05  \n",
       "4    0.22   0.38    0.16       0.38  \n",
       "..    ...    ...     ...        ...  \n",
       "686   NaN    NaN     NaN        NaN  \n",
       "687   NaN    NaN     NaN        NaN  \n",
       "688   NaN    NaN     NaN        NaN  \n",
       "689   NaN    NaN     NaN        NaN  \n",
       "690   NaN    NaN     NaN        NaN  \n",
       "\n",
       "[691 rows x 30 columns]"
      ]
     },
     "execution_count": 2,
     "metadata": {},
     "output_type": "execute_result"
    }
   ],
   "source": [
    "df=pd.read_csv(r'C:\\Users\\RafoffTech\\Downloads\\Football Players Stats 2.csv') \n",
    "df"
   ]
  },
  {
   "cell_type": "markdown",
   "id": "b14f632a-d783-4863-9d54-3d98667b77cb",
   "metadata": {
    "tags": []
   },
   "source": [
    "# This is a football player dataset, including details such as team, nationality, position, age, and various statistics for the 2022-2023 season.\n",
    "\n",
    " "
   ]
  },
  {
   "cell_type": "code",
   "execution_count": 3,
   "id": "1499a59e-c3ad-420c-ad43-6e920d4b7944",
   "metadata": {
    "tags": []
   },
   "outputs": [
    {
     "data": {
      "text/plain": [
       "Player         0\n",
       "Team           0\n",
       "Nation         3\n",
       "Pos            0\n",
       "Age            4\n",
       "MP             0\n",
       "Starts         0\n",
       "Min          145\n",
       "90s          144\n",
       "Gls          144\n",
       "Ast          144\n",
       "G-PK         144\n",
       "PK           144\n",
       "PKatt        144\n",
       "CrdY         144\n",
       "CrdR         144\n",
       "Gls.1        145\n",
       "Ast.1        145\n",
       "G+A          145\n",
       "G-PK.1       145\n",
       "G+A-PK       145\n",
       "xG           145\n",
       "npxG         145\n",
       "xA           145\n",
       "npxG+xA      145\n",
       "xG.1         145\n",
       "xA.1         145\n",
       "xG+xA        145\n",
       "npxG.1       145\n",
       "npxG+xA.1    145\n",
       "dtype: int64"
      ]
     },
     "execution_count": 3,
     "metadata": {},
     "output_type": "execute_result"
    }
   ],
   "source": [
    "df.isnull().sum()"
   ]
  },
  {
   "cell_type": "code",
   "execution_count": 4,
   "id": "46cfb135-517b-40e1-a20d-cb7aff129547",
   "metadata": {
    "tags": []
   },
   "outputs": [],
   "source": [
    "df=df.dropna(how=\"any\")\n"
   ]
  },
  {
   "cell_type": "markdown",
   "id": "303b04fe-7079-4685-bde1-6e88f6f24210",
   "metadata": {},
   "source": [
    "# I Dropped Null Values In This Dataset To Avoid Complications"
   ]
  },
  {
   "cell_type": "code",
   "execution_count": 5,
   "id": "6a3ea73b-4e66-4ebb-bb73-3174864f0ff1",
   "metadata": {
    "tags": []
   },
   "outputs": [
    {
     "data": {
      "text/html": [
       "<div>\n",
       "<style scoped>\n",
       "    .dataframe tbody tr th:only-of-type {\n",
       "        vertical-align: middle;\n",
       "    }\n",
       "\n",
       "    .dataframe tbody tr th {\n",
       "        vertical-align: top;\n",
       "    }\n",
       "\n",
       "    .dataframe thead th {\n",
       "        text-align: right;\n",
       "    }\n",
       "</style>\n",
       "<table border=\"1\" class=\"dataframe\">\n",
       "  <thead>\n",
       "    <tr style=\"text-align: right;\">\n",
       "      <th></th>\n",
       "      <th>Player</th>\n",
       "      <th>Team</th>\n",
       "      <th>Nation</th>\n",
       "      <th>Pos</th>\n",
       "      <th>Age</th>\n",
       "      <th>MP</th>\n",
       "      <th>Starts</th>\n",
       "      <th>Min</th>\n",
       "      <th>90s</th>\n",
       "      <th>Gls</th>\n",
       "      <th>...</th>\n",
       "      <th>G+A-PK</th>\n",
       "      <th>xG</th>\n",
       "      <th>npxG</th>\n",
       "      <th>xA</th>\n",
       "      <th>npxG+xA</th>\n",
       "      <th>xG.1</th>\n",
       "      <th>xA.1</th>\n",
       "      <th>xG+xA</th>\n",
       "      <th>npxG.1</th>\n",
       "      <th>npxG+xA.1</th>\n",
       "    </tr>\n",
       "  </thead>\n",
       "  <tbody>\n",
       "    <tr>\n",
       "      <th>0</th>\n",
       "      <td>Bukayo Saka</td>\n",
       "      <td>Arsenal</td>\n",
       "      <td>eng ENG</td>\n",
       "      <td>FW,MF</td>\n",
       "      <td>19.0</td>\n",
       "      <td>38</td>\n",
       "      <td>36</td>\n",
       "      <td>2,978</td>\n",
       "      <td>33.1</td>\n",
       "      <td>11.0</td>\n",
       "      <td>...</td>\n",
       "      <td>0.48</td>\n",
       "      <td>9.7</td>\n",
       "      <td>8.2</td>\n",
       "      <td>6.9</td>\n",
       "      <td>15.2</td>\n",
       "      <td>0.29</td>\n",
       "      <td>0.21</td>\n",
       "      <td>0.50</td>\n",
       "      <td>0.25</td>\n",
       "      <td>0.46</td>\n",
       "    </tr>\n",
       "    <tr>\n",
       "      <th>1</th>\n",
       "      <td>Gabriel Dos Santos</td>\n",
       "      <td>Arsenal</td>\n",
       "      <td>br BRA</td>\n",
       "      <td>DF</td>\n",
       "      <td>23.0</td>\n",
       "      <td>35</td>\n",
       "      <td>35</td>\n",
       "      <td>3,063</td>\n",
       "      <td>34.0</td>\n",
       "      <td>5.0</td>\n",
       "      <td>...</td>\n",
       "      <td>0.15</td>\n",
       "      <td>2.7</td>\n",
       "      <td>2.7</td>\n",
       "      <td>0.8</td>\n",
       "      <td>3.5</td>\n",
       "      <td>0.08</td>\n",
       "      <td>0.02</td>\n",
       "      <td>0.10</td>\n",
       "      <td>0.08</td>\n",
       "      <td>0.10</td>\n",
       "    </tr>\n",
       "    <tr>\n",
       "      <th>2</th>\n",
       "      <td>Aaron Ramsdale</td>\n",
       "      <td>Arsenal</td>\n",
       "      <td>eng ENG</td>\n",
       "      <td>GK</td>\n",
       "      <td>23.0</td>\n",
       "      <td>34</td>\n",
       "      <td>34</td>\n",
       "      <td>3,060</td>\n",
       "      <td>34.0</td>\n",
       "      <td>0.0</td>\n",
       "      <td>...</td>\n",
       "      <td>0.00</td>\n",
       "      <td>0.0</td>\n",
       "      <td>0.0</td>\n",
       "      <td>0.0</td>\n",
       "      <td>0.0</td>\n",
       "      <td>0.00</td>\n",
       "      <td>0.00</td>\n",
       "      <td>0.00</td>\n",
       "      <td>0.00</td>\n",
       "      <td>0.00</td>\n",
       "    </tr>\n",
       "    <tr>\n",
       "      <th>3</th>\n",
       "      <td>Ben White</td>\n",
       "      <td>Arsenal</td>\n",
       "      <td>eng ENG</td>\n",
       "      <td>DF</td>\n",
       "      <td>23.0</td>\n",
       "      <td>32</td>\n",
       "      <td>32</td>\n",
       "      <td>2,880</td>\n",
       "      <td>32.0</td>\n",
       "      <td>0.0</td>\n",
       "      <td>...</td>\n",
       "      <td>0.00</td>\n",
       "      <td>1.0</td>\n",
       "      <td>1.0</td>\n",
       "      <td>0.6</td>\n",
       "      <td>1.6</td>\n",
       "      <td>0.03</td>\n",
       "      <td>0.02</td>\n",
       "      <td>0.05</td>\n",
       "      <td>0.03</td>\n",
       "      <td>0.05</td>\n",
       "    </tr>\n",
       "    <tr>\n",
       "      <th>4</th>\n",
       "      <td>Martin Ødegaard</td>\n",
       "      <td>Arsenal</td>\n",
       "      <td>no NOR</td>\n",
       "      <td>MF</td>\n",
       "      <td>22.0</td>\n",
       "      <td>36</td>\n",
       "      <td>32</td>\n",
       "      <td>2,785</td>\n",
       "      <td>30.9</td>\n",
       "      <td>7.0</td>\n",
       "      <td>...</td>\n",
       "      <td>0.36</td>\n",
       "      <td>4.8</td>\n",
       "      <td>4.8</td>\n",
       "      <td>6.8</td>\n",
       "      <td>11.6</td>\n",
       "      <td>0.16</td>\n",
       "      <td>0.22</td>\n",
       "      <td>0.38</td>\n",
       "      <td>0.16</td>\n",
       "      <td>0.38</td>\n",
       "    </tr>\n",
       "    <tr>\n",
       "      <th>...</th>\n",
       "      <td>...</td>\n",
       "      <td>...</td>\n",
       "      <td>...</td>\n",
       "      <td>...</td>\n",
       "      <td>...</td>\n",
       "      <td>...</td>\n",
       "      <td>...</td>\n",
       "      <td>...</td>\n",
       "      <td>...</td>\n",
       "      <td>...</td>\n",
       "      <td>...</td>\n",
       "      <td>...</td>\n",
       "      <td>...</td>\n",
       "      <td>...</td>\n",
       "      <td>...</td>\n",
       "      <td>...</td>\n",
       "      <td>...</td>\n",
       "      <td>...</td>\n",
       "      <td>...</td>\n",
       "      <td>...</td>\n",
       "      <td>...</td>\n",
       "    </tr>\n",
       "    <tr>\n",
       "      <th>678</th>\n",
       "      <td>Luke Cundle</td>\n",
       "      <td>Wolverhampton Wanderers</td>\n",
       "      <td>eng ENG</td>\n",
       "      <td>MF</td>\n",
       "      <td>19.0</td>\n",
       "      <td>4</td>\n",
       "      <td>2</td>\n",
       "      <td>180</td>\n",
       "      <td>2.0</td>\n",
       "      <td>0.0</td>\n",
       "      <td>...</td>\n",
       "      <td>0.00</td>\n",
       "      <td>0.0</td>\n",
       "      <td>0.0</td>\n",
       "      <td>0.2</td>\n",
       "      <td>0.2</td>\n",
       "      <td>0.00</td>\n",
       "      <td>0.12</td>\n",
       "      <td>0.12</td>\n",
       "      <td>0.00</td>\n",
       "      <td>0.12</td>\n",
       "    </tr>\n",
       "    <tr>\n",
       "      <th>679</th>\n",
       "      <td>Chiquinho</td>\n",
       "      <td>Wolverhampton Wanderers</td>\n",
       "      <td>pt POR</td>\n",
       "      <td>DF,MF</td>\n",
       "      <td>21.0</td>\n",
       "      <td>8</td>\n",
       "      <td>1</td>\n",
       "      <td>208</td>\n",
       "      <td>2.3</td>\n",
       "      <td>0.0</td>\n",
       "      <td>...</td>\n",
       "      <td>1.30</td>\n",
       "      <td>0.3</td>\n",
       "      <td>0.3</td>\n",
       "      <td>0.6</td>\n",
       "      <td>0.9</td>\n",
       "      <td>0.13</td>\n",
       "      <td>0.27</td>\n",
       "      <td>0.41</td>\n",
       "      <td>0.13</td>\n",
       "      <td>0.41</td>\n",
       "    </tr>\n",
       "    <tr>\n",
       "      <th>680</th>\n",
       "      <td>John Ruddy</td>\n",
       "      <td>Wolverhampton Wanderers</td>\n",
       "      <td>eng ENG</td>\n",
       "      <td>GK</td>\n",
       "      <td>34.0</td>\n",
       "      <td>2</td>\n",
       "      <td>1</td>\n",
       "      <td>135</td>\n",
       "      <td>1.5</td>\n",
       "      <td>0.0</td>\n",
       "      <td>...</td>\n",
       "      <td>0.00</td>\n",
       "      <td>0.0</td>\n",
       "      <td>0.0</td>\n",
       "      <td>0.0</td>\n",
       "      <td>0.0</td>\n",
       "      <td>0.00</td>\n",
       "      <td>0.00</td>\n",
       "      <td>0.00</td>\n",
       "      <td>0.00</td>\n",
       "      <td>0.00</td>\n",
       "    </tr>\n",
       "    <tr>\n",
       "      <th>681</th>\n",
       "      <td>Chem Campbell</td>\n",
       "      <td>Wolverhampton Wanderers</td>\n",
       "      <td>wls WAL</td>\n",
       "      <td>MF</td>\n",
       "      <td>18.0</td>\n",
       "      <td>1</td>\n",
       "      <td>0</td>\n",
       "      <td>13</td>\n",
       "      <td>0.1</td>\n",
       "      <td>0.0</td>\n",
       "      <td>...</td>\n",
       "      <td>0.00</td>\n",
       "      <td>0.0</td>\n",
       "      <td>0.0</td>\n",
       "      <td>0.0</td>\n",
       "      <td>0.0</td>\n",
       "      <td>0.00</td>\n",
       "      <td>0.00</td>\n",
       "      <td>0.00</td>\n",
       "      <td>0.00</td>\n",
       "      <td>0.00</td>\n",
       "    </tr>\n",
       "    <tr>\n",
       "      <th>682</th>\n",
       "      <td>Morgan Gibbs-White</td>\n",
       "      <td>Wolverhampton Wanderers</td>\n",
       "      <td>eng ENG</td>\n",
       "      <td>FW,MF</td>\n",
       "      <td>21.0</td>\n",
       "      <td>2</td>\n",
       "      <td>0</td>\n",
       "      <td>9</td>\n",
       "      <td>0.1</td>\n",
       "      <td>0.0</td>\n",
       "      <td>...</td>\n",
       "      <td>0.00</td>\n",
       "      <td>0.1</td>\n",
       "      <td>0.1</td>\n",
       "      <td>0.0</td>\n",
       "      <td>0.1</td>\n",
       "      <td>1.22</td>\n",
       "      <td>0.00</td>\n",
       "      <td>1.22</td>\n",
       "      <td>1.22</td>\n",
       "      <td>1.22</td>\n",
       "    </tr>\n",
       "  </tbody>\n",
       "</table>\n",
       "<p>546 rows × 30 columns</p>\n",
       "</div>"
      ],
      "text/plain": [
       "                 Player                     Team   Nation    Pos   Age  MP  \\\n",
       "0           Bukayo Saka                  Arsenal  eng ENG  FW,MF  19.0  38   \n",
       "1    Gabriel Dos Santos                  Arsenal   br BRA     DF  23.0  35   \n",
       "2        Aaron Ramsdale                  Arsenal  eng ENG     GK  23.0  34   \n",
       "3             Ben White                  Arsenal  eng ENG     DF  23.0  32   \n",
       "4       Martin Ødegaard                  Arsenal   no NOR     MF  22.0  36   \n",
       "..                  ...                      ...      ...    ...   ...  ..   \n",
       "678         Luke Cundle  Wolverhampton Wanderers  eng ENG     MF  19.0   4   \n",
       "679           Chiquinho  Wolverhampton Wanderers   pt POR  DF,MF  21.0   8   \n",
       "680          John Ruddy  Wolverhampton Wanderers  eng ENG     GK  34.0   2   \n",
       "681       Chem Campbell  Wolverhampton Wanderers  wls WAL     MF  18.0   1   \n",
       "682  Morgan Gibbs-White  Wolverhampton Wanderers  eng ENG  FW,MF  21.0   2   \n",
       "\n",
       "     Starts    Min   90s   Gls  ...  G+A-PK   xG  npxG   xA  npxG+xA  xG.1  \\\n",
       "0        36  2,978  33.1  11.0  ...    0.48  9.7   8.2  6.9     15.2  0.29   \n",
       "1        35  3,063  34.0   5.0  ...    0.15  2.7   2.7  0.8      3.5  0.08   \n",
       "2        34  3,060  34.0   0.0  ...    0.00  0.0   0.0  0.0      0.0  0.00   \n",
       "3        32  2,880  32.0   0.0  ...    0.00  1.0   1.0  0.6      1.6  0.03   \n",
       "4        32  2,785  30.9   7.0  ...    0.36  4.8   4.8  6.8     11.6  0.16   \n",
       "..      ...    ...   ...   ...  ...     ...  ...   ...  ...      ...   ...   \n",
       "678       2    180   2.0   0.0  ...    0.00  0.0   0.0  0.2      0.2  0.00   \n",
       "679       1    208   2.3   0.0  ...    1.30  0.3   0.3  0.6      0.9  0.13   \n",
       "680       1    135   1.5   0.0  ...    0.00  0.0   0.0  0.0      0.0  0.00   \n",
       "681       0     13   0.1   0.0  ...    0.00  0.0   0.0  0.0      0.0  0.00   \n",
       "682       0      9   0.1   0.0  ...    0.00  0.1   0.1  0.0      0.1  1.22   \n",
       "\n",
       "     xA.1  xG+xA  npxG.1  npxG+xA.1  \n",
       "0    0.21   0.50    0.25       0.46  \n",
       "1    0.02   0.10    0.08       0.10  \n",
       "2    0.00   0.00    0.00       0.00  \n",
       "3    0.02   0.05    0.03       0.05  \n",
       "4    0.22   0.38    0.16       0.38  \n",
       "..    ...    ...     ...        ...  \n",
       "678  0.12   0.12    0.00       0.12  \n",
       "679  0.27   0.41    0.13       0.41  \n",
       "680  0.00   0.00    0.00       0.00  \n",
       "681  0.00   0.00    0.00       0.00  \n",
       "682  0.00   1.22    1.22       1.22  \n",
       "\n",
       "[546 rows x 30 columns]"
      ]
     },
     "execution_count": 5,
     "metadata": {},
     "output_type": "execute_result"
    }
   ],
   "source": [
    "df"
   ]
  },
  {
   "cell_type": "code",
   "execution_count": 6,
   "id": "035f58f0-6102-45ec-995c-0810037fd743",
   "metadata": {
    "tags": []
   },
   "outputs": [
    {
     "data": {
      "text/plain": [
       "Player       537\n",
       "Team          20\n",
       "Nation        63\n",
       "Pos           10\n",
       "Age           23\n",
       "MP            38\n",
       "Starts        39\n",
       "Min          478\n",
       "90s          265\n",
       "Gls           20\n",
       "Ast           13\n",
       "G-PK          18\n",
       "PK             7\n",
       "PKatt          8\n",
       "CrdY          12\n",
       "CrdR           3\n",
       "Gls.1         61\n",
       "Ast.1         47\n",
       "G+A           86\n",
       "G-PK.1        59\n",
       "G+A-PK        83\n",
       "xG            93\n",
       "npxG          90\n",
       "xA            67\n",
       "npxG+xA      116\n",
       "xG.1          64\n",
       "xA.1          40\n",
       "xG+xA         87\n",
       "npxG.1        65\n",
       "npxG+xA.1     84\n",
       "dtype: int64"
      ]
     },
     "execution_count": 6,
     "metadata": {},
     "output_type": "execute_result"
    }
   ],
   "source": [
    "df.nunique()"
   ]
  },
  {
   "cell_type": "code",
   "execution_count": null,
   "id": "f999ae84-e69c-4785-a8c7-6a3bc7abfdd0",
   "metadata": {},
   "outputs": [],
   "source": []
  },
  {
   "cell_type": "markdown",
   "id": "281519c4-5050-46e8-95eb-62e5625d1d16",
   "metadata": {},
   "source": [
    "# This Are The Unique values to work with"
   ]
  },
  {
   "cell_type": "code",
   "execution_count": 7,
   "id": "307cdff9-db6a-4ebe-9d58-57a991f92ddf",
   "metadata": {
    "tags": []
   },
   "outputs": [
    {
     "data": {
      "text/html": [
       "<div>\n",
       "<style scoped>\n",
       "    .dataframe tbody tr th:only-of-type {\n",
       "        vertical-align: middle;\n",
       "    }\n",
       "\n",
       "    .dataframe tbody tr th {\n",
       "        vertical-align: top;\n",
       "    }\n",
       "\n",
       "    .dataframe thead th {\n",
       "        text-align: right;\n",
       "    }\n",
       "</style>\n",
       "<table border=\"1\" class=\"dataframe\">\n",
       "  <thead>\n",
       "    <tr style=\"text-align: right;\">\n",
       "      <th></th>\n",
       "      <th>Player</th>\n",
       "      <th>Team</th>\n",
       "      <th>Nation</th>\n",
       "      <th>Pos</th>\n",
       "      <th>Age</th>\n",
       "      <th>MP</th>\n",
       "      <th>Starts</th>\n",
       "      <th>Min</th>\n",
       "      <th>90s</th>\n",
       "      <th>Gls</th>\n",
       "      <th>...</th>\n",
       "      <th>G+A-PK</th>\n",
       "      <th>xG</th>\n",
       "      <th>npxG</th>\n",
       "      <th>xA</th>\n",
       "      <th>npxG+xA</th>\n",
       "      <th>xG.1</th>\n",
       "      <th>xA.1</th>\n",
       "      <th>xG+xA</th>\n",
       "      <th>npxG.1</th>\n",
       "      <th>npxG+xA.1</th>\n",
       "    </tr>\n",
       "  </thead>\n",
       "  <tbody>\n",
       "    <tr>\n",
       "      <th>0</th>\n",
       "      <td>Bukayo Saka</td>\n",
       "      <td>Arsenal</td>\n",
       "      <td>eng ENG</td>\n",
       "      <td>FW,MF</td>\n",
       "      <td>19.0</td>\n",
       "      <td>38</td>\n",
       "      <td>36</td>\n",
       "      <td>2,978</td>\n",
       "      <td>33.1</td>\n",
       "      <td>11.0</td>\n",
       "      <td>...</td>\n",
       "      <td>0.48</td>\n",
       "      <td>9.7</td>\n",
       "      <td>8.2</td>\n",
       "      <td>6.9</td>\n",
       "      <td>15.2</td>\n",
       "      <td>0.29</td>\n",
       "      <td>0.21</td>\n",
       "      <td>0.50</td>\n",
       "      <td>0.25</td>\n",
       "      <td>0.46</td>\n",
       "    </tr>\n",
       "    <tr>\n",
       "      <th>1</th>\n",
       "      <td>Gabriel Dos Santos</td>\n",
       "      <td>Arsenal</td>\n",
       "      <td>br BRA</td>\n",
       "      <td>DF</td>\n",
       "      <td>23.0</td>\n",
       "      <td>35</td>\n",
       "      <td>35</td>\n",
       "      <td>3,063</td>\n",
       "      <td>34.0</td>\n",
       "      <td>5.0</td>\n",
       "      <td>...</td>\n",
       "      <td>0.15</td>\n",
       "      <td>2.7</td>\n",
       "      <td>2.7</td>\n",
       "      <td>0.8</td>\n",
       "      <td>3.5</td>\n",
       "      <td>0.08</td>\n",
       "      <td>0.02</td>\n",
       "      <td>0.10</td>\n",
       "      <td>0.08</td>\n",
       "      <td>0.10</td>\n",
       "    </tr>\n",
       "    <tr>\n",
       "      <th>2</th>\n",
       "      <td>Aaron Ramsdale</td>\n",
       "      <td>Arsenal</td>\n",
       "      <td>eng ENG</td>\n",
       "      <td>GK</td>\n",
       "      <td>23.0</td>\n",
       "      <td>34</td>\n",
       "      <td>34</td>\n",
       "      <td>3,060</td>\n",
       "      <td>34.0</td>\n",
       "      <td>0.0</td>\n",
       "      <td>...</td>\n",
       "      <td>0.00</td>\n",
       "      <td>0.0</td>\n",
       "      <td>0.0</td>\n",
       "      <td>0.0</td>\n",
       "      <td>0.0</td>\n",
       "      <td>0.00</td>\n",
       "      <td>0.00</td>\n",
       "      <td>0.00</td>\n",
       "      <td>0.00</td>\n",
       "      <td>0.00</td>\n",
       "    </tr>\n",
       "    <tr>\n",
       "      <th>3</th>\n",
       "      <td>Ben White</td>\n",
       "      <td>Arsenal</td>\n",
       "      <td>eng ENG</td>\n",
       "      <td>DF</td>\n",
       "      <td>23.0</td>\n",
       "      <td>32</td>\n",
       "      <td>32</td>\n",
       "      <td>2,880</td>\n",
       "      <td>32.0</td>\n",
       "      <td>0.0</td>\n",
       "      <td>...</td>\n",
       "      <td>0.00</td>\n",
       "      <td>1.0</td>\n",
       "      <td>1.0</td>\n",
       "      <td>0.6</td>\n",
       "      <td>1.6</td>\n",
       "      <td>0.03</td>\n",
       "      <td>0.02</td>\n",
       "      <td>0.05</td>\n",
       "      <td>0.03</td>\n",
       "      <td>0.05</td>\n",
       "    </tr>\n",
       "    <tr>\n",
       "      <th>4</th>\n",
       "      <td>Martin Ødegaard</td>\n",
       "      <td>Arsenal</td>\n",
       "      <td>no NOR</td>\n",
       "      <td>MF</td>\n",
       "      <td>22.0</td>\n",
       "      <td>36</td>\n",
       "      <td>32</td>\n",
       "      <td>2,785</td>\n",
       "      <td>30.9</td>\n",
       "      <td>7.0</td>\n",
       "      <td>...</td>\n",
       "      <td>0.36</td>\n",
       "      <td>4.8</td>\n",
       "      <td>4.8</td>\n",
       "      <td>6.8</td>\n",
       "      <td>11.6</td>\n",
       "      <td>0.16</td>\n",
       "      <td>0.22</td>\n",
       "      <td>0.38</td>\n",
       "      <td>0.16</td>\n",
       "      <td>0.38</td>\n",
       "    </tr>\n",
       "    <tr>\n",
       "      <th>...</th>\n",
       "      <td>...</td>\n",
       "      <td>...</td>\n",
       "      <td>...</td>\n",
       "      <td>...</td>\n",
       "      <td>...</td>\n",
       "      <td>...</td>\n",
       "      <td>...</td>\n",
       "      <td>...</td>\n",
       "      <td>...</td>\n",
       "      <td>...</td>\n",
       "      <td>...</td>\n",
       "      <td>...</td>\n",
       "      <td>...</td>\n",
       "      <td>...</td>\n",
       "      <td>...</td>\n",
       "      <td>...</td>\n",
       "      <td>...</td>\n",
       "      <td>...</td>\n",
       "      <td>...</td>\n",
       "      <td>...</td>\n",
       "      <td>...</td>\n",
       "    </tr>\n",
       "    <tr>\n",
       "      <th>678</th>\n",
       "      <td>Luke Cundle</td>\n",
       "      <td>Wolverhampton Wanderers</td>\n",
       "      <td>eng ENG</td>\n",
       "      <td>MF</td>\n",
       "      <td>19.0</td>\n",
       "      <td>4</td>\n",
       "      <td>2</td>\n",
       "      <td>180</td>\n",
       "      <td>2.0</td>\n",
       "      <td>0.0</td>\n",
       "      <td>...</td>\n",
       "      <td>0.00</td>\n",
       "      <td>0.0</td>\n",
       "      <td>0.0</td>\n",
       "      <td>0.2</td>\n",
       "      <td>0.2</td>\n",
       "      <td>0.00</td>\n",
       "      <td>0.12</td>\n",
       "      <td>0.12</td>\n",
       "      <td>0.00</td>\n",
       "      <td>0.12</td>\n",
       "    </tr>\n",
       "    <tr>\n",
       "      <th>679</th>\n",
       "      <td>Chiquinho</td>\n",
       "      <td>Wolverhampton Wanderers</td>\n",
       "      <td>pt POR</td>\n",
       "      <td>DF,MF</td>\n",
       "      <td>21.0</td>\n",
       "      <td>8</td>\n",
       "      <td>1</td>\n",
       "      <td>208</td>\n",
       "      <td>2.3</td>\n",
       "      <td>0.0</td>\n",
       "      <td>...</td>\n",
       "      <td>1.30</td>\n",
       "      <td>0.3</td>\n",
       "      <td>0.3</td>\n",
       "      <td>0.6</td>\n",
       "      <td>0.9</td>\n",
       "      <td>0.13</td>\n",
       "      <td>0.27</td>\n",
       "      <td>0.41</td>\n",
       "      <td>0.13</td>\n",
       "      <td>0.41</td>\n",
       "    </tr>\n",
       "    <tr>\n",
       "      <th>680</th>\n",
       "      <td>John Ruddy</td>\n",
       "      <td>Wolverhampton Wanderers</td>\n",
       "      <td>eng ENG</td>\n",
       "      <td>GK</td>\n",
       "      <td>34.0</td>\n",
       "      <td>2</td>\n",
       "      <td>1</td>\n",
       "      <td>135</td>\n",
       "      <td>1.5</td>\n",
       "      <td>0.0</td>\n",
       "      <td>...</td>\n",
       "      <td>0.00</td>\n",
       "      <td>0.0</td>\n",
       "      <td>0.0</td>\n",
       "      <td>0.0</td>\n",
       "      <td>0.0</td>\n",
       "      <td>0.00</td>\n",
       "      <td>0.00</td>\n",
       "      <td>0.00</td>\n",
       "      <td>0.00</td>\n",
       "      <td>0.00</td>\n",
       "    </tr>\n",
       "    <tr>\n",
       "      <th>681</th>\n",
       "      <td>Chem Campbell</td>\n",
       "      <td>Wolverhampton Wanderers</td>\n",
       "      <td>wls WAL</td>\n",
       "      <td>MF</td>\n",
       "      <td>18.0</td>\n",
       "      <td>1</td>\n",
       "      <td>0</td>\n",
       "      <td>13</td>\n",
       "      <td>0.1</td>\n",
       "      <td>0.0</td>\n",
       "      <td>...</td>\n",
       "      <td>0.00</td>\n",
       "      <td>0.0</td>\n",
       "      <td>0.0</td>\n",
       "      <td>0.0</td>\n",
       "      <td>0.0</td>\n",
       "      <td>0.00</td>\n",
       "      <td>0.00</td>\n",
       "      <td>0.00</td>\n",
       "      <td>0.00</td>\n",
       "      <td>0.00</td>\n",
       "    </tr>\n",
       "    <tr>\n",
       "      <th>682</th>\n",
       "      <td>Morgan Gibbs-White</td>\n",
       "      <td>Wolverhampton Wanderers</td>\n",
       "      <td>eng ENG</td>\n",
       "      <td>FW,MF</td>\n",
       "      <td>21.0</td>\n",
       "      <td>2</td>\n",
       "      <td>0</td>\n",
       "      <td>9</td>\n",
       "      <td>0.1</td>\n",
       "      <td>0.0</td>\n",
       "      <td>...</td>\n",
       "      <td>0.00</td>\n",
       "      <td>0.1</td>\n",
       "      <td>0.1</td>\n",
       "      <td>0.0</td>\n",
       "      <td>0.1</td>\n",
       "      <td>1.22</td>\n",
       "      <td>0.00</td>\n",
       "      <td>1.22</td>\n",
       "      <td>1.22</td>\n",
       "      <td>1.22</td>\n",
       "    </tr>\n",
       "  </tbody>\n",
       "</table>\n",
       "<p>546 rows × 30 columns</p>\n",
       "</div>"
      ],
      "text/plain": [
       "                 Player                     Team   Nation    Pos   Age  MP  \\\n",
       "0           Bukayo Saka                  Arsenal  eng ENG  FW,MF  19.0  38   \n",
       "1    Gabriel Dos Santos                  Arsenal   br BRA     DF  23.0  35   \n",
       "2        Aaron Ramsdale                  Arsenal  eng ENG     GK  23.0  34   \n",
       "3             Ben White                  Arsenal  eng ENG     DF  23.0  32   \n",
       "4       Martin Ødegaard                  Arsenal   no NOR     MF  22.0  36   \n",
       "..                  ...                      ...      ...    ...   ...  ..   \n",
       "678         Luke Cundle  Wolverhampton Wanderers  eng ENG     MF  19.0   4   \n",
       "679           Chiquinho  Wolverhampton Wanderers   pt POR  DF,MF  21.0   8   \n",
       "680          John Ruddy  Wolverhampton Wanderers  eng ENG     GK  34.0   2   \n",
       "681       Chem Campbell  Wolverhampton Wanderers  wls WAL     MF  18.0   1   \n",
       "682  Morgan Gibbs-White  Wolverhampton Wanderers  eng ENG  FW,MF  21.0   2   \n",
       "\n",
       "     Starts    Min   90s   Gls  ...  G+A-PK   xG  npxG   xA  npxG+xA  xG.1  \\\n",
       "0        36  2,978  33.1  11.0  ...    0.48  9.7   8.2  6.9     15.2  0.29   \n",
       "1        35  3,063  34.0   5.0  ...    0.15  2.7   2.7  0.8      3.5  0.08   \n",
       "2        34  3,060  34.0   0.0  ...    0.00  0.0   0.0  0.0      0.0  0.00   \n",
       "3        32  2,880  32.0   0.0  ...    0.00  1.0   1.0  0.6      1.6  0.03   \n",
       "4        32  2,785  30.9   7.0  ...    0.36  4.8   4.8  6.8     11.6  0.16   \n",
       "..      ...    ...   ...   ...  ...     ...  ...   ...  ...      ...   ...   \n",
       "678       2    180   2.0   0.0  ...    0.00  0.0   0.0  0.2      0.2  0.00   \n",
       "679       1    208   2.3   0.0  ...    1.30  0.3   0.3  0.6      0.9  0.13   \n",
       "680       1    135   1.5   0.0  ...    0.00  0.0   0.0  0.0      0.0  0.00   \n",
       "681       0     13   0.1   0.0  ...    0.00  0.0   0.0  0.0      0.0  0.00   \n",
       "682       0      9   0.1   0.0  ...    0.00  0.1   0.1  0.0      0.1  1.22   \n",
       "\n",
       "     xA.1  xG+xA  npxG.1  npxG+xA.1  \n",
       "0    0.21   0.50    0.25       0.46  \n",
       "1    0.02   0.10    0.08       0.10  \n",
       "2    0.00   0.00    0.00       0.00  \n",
       "3    0.02   0.05    0.03       0.05  \n",
       "4    0.22   0.38    0.16       0.38  \n",
       "..    ...    ...     ...        ...  \n",
       "678  0.12   0.12    0.00       0.12  \n",
       "679  0.27   0.41    0.13       0.41  \n",
       "680  0.00   0.00    0.00       0.00  \n",
       "681  0.00   0.00    0.00       0.00  \n",
       "682  0.00   1.22    1.22       1.22  \n",
       "\n",
       "[546 rows x 30 columns]"
      ]
     },
     "execution_count": 7,
     "metadata": {},
     "output_type": "execute_result"
    }
   ],
   "source": [
    "df"
   ]
  },
  {
   "cell_type": "markdown",
   "id": "1c41cd41-bf62-477c-95d1-c806f09caf2d",
   "metadata": {},
   "source": [
    "## I proceeded on the Analysis "
   ]
  },
  {
   "cell_type": "markdown",
   "id": "26915b68-e2bc-4f42-863c-ae9c0ce7b316",
   "metadata": {},
   "source": [
    "# Player Performance\n"
   ]
  },
  {
   "cell_type": "markdown",
   "id": "3088185a-d28f-4a56-bf7c-806069413e68",
   "metadata": {
    "tags": []
   },
   "source": [
    "### 1. Who are the top goal scorers in the dataset?\n"
   ]
  },
  {
   "cell_type": "code",
   "execution_count": 8,
   "id": "61aabbc4-d6c2-43e2-a05a-5311ea6f8f69",
   "metadata": {
    "tags": []
   },
   "outputs": [
    {
     "name": "stdout",
     "output_type": "stream",
     "text": [
      "Top goal scorers:\n",
      "                Player   Gls\n",
      "356      Mohamed Salah  23.0\n",
      "556      Son Heung-min  23.0\n",
      "423  Cristiano Ronaldo  18.0\n",
      "553         Harry Kane  17.0\n",
      "354         Sadio Mané  16.0\n"
     ]
    },
    {
     "data": {
      "image/png": "[encoded data removed]",
      "text/plain": [
       "<Figure size 1000x600 with 1 Axes>"
      ]
     },
     "metadata": {},
     "output_type": "display_data"
    }
   ],
   "source": [
    "top_goal_scorers = df.nlargest(5, 'Gls')\n",
    "print(\"Top goal scorers:\")\n",
    "print(top_goal_scorers[['Player', 'Gls']] )\n",
    "top_goal_scorers = df.nlargest(5, 'Gls')\n",
    "\n",
    " \n",
    "plt.figure(figsize=(10, 6))\n",
    "sns.barplot(x='Player', y='Gls', data=top_goal_scorers, palette='viridis')\n",
    "plt.title('Top Goal Scorers')\n",
    "plt.xlabel('Player')\n",
    "plt.ylabel('Goals')\n",
    "plt.show()"
   ]
  },
  {
   "cell_type": "markdown",
   "id": "1ec1f491-d300-44bb-ad6b-0b5de3a262d0",
   "metadata": {},
   "source": [
    "### The Top Five highest Goal scorer Are the ones listed above"
   ]
  },
  {
   "cell_type": "markdown",
   "id": "28948129-2283-4dcb-843c-50ab0ecc333d",
   "metadata": {},
   "source": [
    "### 2. Which player has the highest expected goals (xG)?\n"
   ]
  },
  {
   "cell_type": "code",
   "execution_count": 9,
   "id": "c94aa3ac-72ee-4ad6-8330-ca8dfcd6f9ff",
   "metadata": {
    "tags": []
   },
   "outputs": [
    {
     "name": "stdout",
     "output_type": "stream",
     "text": [
      "\n",
      "Player with the highest xG:\n",
      "            Player    xG\n",
      "356  Mohamed Salah  21.8\n"
     ]
    }
   ],
   "source": [
    "top_xG_player = df[df['xG'] == df['xG'].max()]\n",
    "print(\"\\nPlayer with the highest xG:\")\n",
    "print(top_xG_player[['Player', 'xG']])\n"
   ]
  },
  {
   "cell_type": "markdown",
   "id": "003eddba-f101-455d-b3e5-2476ffec1521",
   "metadata": {},
   "source": [
    "### 3. Who has the best goals-to-minutes ratio (Gls per 90 minutes)?\n"
   ]
  },
  {
   "cell_type": "code",
   "execution_count": 10,
   "id": "7fabc535-1a6f-4e06-8ce7-78b62341b5ab",
   "metadata": {
    "tags": []
   },
   "outputs": [
    {
     "name": "stdout",
     "output_type": "stream",
     "text": [
      "\n",
      "Players with the best goals-to-minutes ratio:\n",
      "                Player  Gls per 90s\n",
      "375       Divock Origi     2.000000\n",
      "373    Takumi Minamino     1.428571\n",
      "445  Donny van de Beek     1.250000\n",
      "482      Jeff Hendrick     1.250000\n",
      "356      Mohamed Salah     0.749186\n"
     ]
    },
    {
     "name": "stderr",
     "output_type": "stream",
     "text": [
      "C:\\Users\\RafoffTech\\AppData\\Local\\Temp\\ipykernel_8280\\3097825611.py:1: SettingWithCopyWarning: \n",
      "A value is trying to be set on a copy of a slice from a DataFrame.\n",
      "Try using .loc[row_indexer,col_indexer] = value instead\n",
      "\n",
      "See the caveats in the documentation: https://pandas.pydata.org/pandas-docs/stable/user_guide/indexing.html#returning-a-view-versus-a-copy\n",
      "  df['Gls per 90s'] = df['Gls'] / df['90s']\n"
     ]
    }
   ],
   "source": [
    "df['Gls per 90s'] = df['Gls'] / df['90s']\n",
    "best_goals_to_minutes_ratio = df.nlargest(5, 'Gls per 90s')\n",
    "print(\"\\nPlayers with the best goals-to-minutes ratio:\")\n",
    "print(best_goals_to_minutes_ratio[['Player', 'Gls per 90s']])"
   ]
  },
  {
   "cell_type": "markdown",
   "id": "3972a90e-e97f-47d0-ad10-0a37227a8760",
   "metadata": {},
   "source": [
    "### 4. Identify the players with the most assists (Ast).\n"
   ]
  },
  {
   "cell_type": "code",
   "execution_count": 11,
   "id": "640a905a-2e92-4bbd-afbc-ea42ffbe31b3",
   "metadata": {
    "tags": []
   },
   "outputs": [
    {
     "name": "stdout",
     "output_type": "stream",
     "text": [
      "\n",
      "Players with the most assists:\n",
      "                     Player   Ast\n",
      "356           Mohamed Salah  13.0\n",
      "353  Trent Alexander-Arnold  12.0\n",
      "188             Mason Mount  10.0\n",
      "323           Harvey Barnes  10.0\n",
      "358        Andrew Robertson  10.0\n"
     ]
    }
   ],
   "source": [
    "top_assist_players = df.nlargest(5, 'Ast')\n",
    "print(\"\\nPlayers with the most assists:\")\n",
    "print(top_assist_players[['Player', 'Ast']])"
   ]
  },
  {
   "cell_type": "markdown",
   "id": "d1dea5d1-1ae0-4487-b65a-6ac010d4dec9",
   "metadata": {},
   "source": [
    "### 5. Who has the highest expected assists (xA) in the dataset?\n"
   ]
  },
  {
   "cell_type": "code",
   "execution_count": 12,
   "id": "b9017c8e-52c7-4545-af1d-758e6470b27f",
   "metadata": {
    "tags": []
   },
   "outputs": [
    {
     "name": "stdout",
     "output_type": "stream",
     "text": [
      "\n",
      "Player with the highest xA:\n",
      "                     Player    xA\n",
      "353  Trent Alexander-Arnold  11.2\n"
     ]
    }
   ],
   "source": [
    "top_xA_player = df[df['xA'] == df['xA'].max()]\n",
    "print(\"\\nPlayer with the highest xA:\")\n",
    "print(top_xA_player[['Player', 'xA']])\n"
   ]
  },
  {
   "cell_type": "markdown",
   "id": "2eba7242-d568-4178-93ee-252ab0d96e5f",
   "metadata": {},
   "source": [
    "### 6. Which players have the highest combined goals and assists (G+A)?\n"
   ]
  },
  {
   "cell_type": "code",
   "execution_count": 13,
   "id": "33cec3a0-c8ab-4c69-9ffe-c49d5bf6dfc0",
   "metadata": {
    "tags": []
   },
   "outputs": [
    {
     "name": "stdout",
     "output_type": "stream",
     "text": [
      "\n",
      "Players with the highest combined goals and assists:\n",
      "              Player   G+A\n",
      "356    Mohamed Salah  36.0\n",
      "556    Son Heung-min  30.0\n",
      "553       Harry Kane  26.0\n",
      "392  Kevin De Bruyne  23.0\n",
      "629     Jarrod Bowen  22.0\n"
     ]
    },
    {
     "name": "stderr",
     "output_type": "stream",
     "text": [
      "C:\\Users\\RafoffTech\\AppData\\Local\\Temp\\ipykernel_8280\\1321292641.py:1: SettingWithCopyWarning: \n",
      "A value is trying to be set on a copy of a slice from a DataFrame.\n",
      "Try using .loc[row_indexer,col_indexer] = value instead\n",
      "\n",
      "See the caveats in the documentation: https://pandas.pydata.org/pandas-docs/stable/user_guide/indexing.html#returning-a-view-versus-a-copy\n",
      "  df['G+A'] = df['Gls'] + df['Ast']\n",
      "C:\\Users\\RafoffTech\\AppData\\Local\\Temp\\ipykernel_8280\\1321292641.py:5: SettingWithCopyWarning: \n",
      "A value is trying to be set on a copy of a slice from a DataFrame.\n",
      "Try using .loc[row_indexer,col_indexer] = value instead\n",
      "\n",
      "See the caveats in the documentation: https://pandas.pydata.org/pandas-docs/stable/user_guide/indexing.html#returning-a-view-versus-a-copy\n",
      "  df['G+A'] = df['Gls'] + df['Ast']\n"
     ]
    },
    {
     "data": {
      "image/png": "[encoded data removed]",
      "text/plain": [
       "<Figure size 1000x600 with 1 Axes>"
      ]
     },
     "metadata": {},
     "output_type": "display_data"
    }
   ],
   "source": [
    "df['G+A'] = df['Gls'] + df['Ast']\n",
    "top_GA_players = df.nlargest(5, 'G+A')\n",
    "print(\"\\nPlayers with the highest combined goals and assists:\")\n",
    "print(top_GA_players[['Player', 'G+A']])\n",
    "df['G+A'] = df['Gls'] + df['Ast']\n",
    "\n",
    "top_GA_players = df.nlargest(5, 'G+A')\n",
    "plt.figure(figsize=(10, 6))\n",
    "sns.barplot(x='G+A', y='Player', data=top_GA_players, palette='viridis')\n",
    "plt.title('Top Players with the Highest Goals + Assists')\n",
    "plt.xlabel('Goals + Assists')\n",
    "plt.ylabel('Player')\n",
    "plt.show()"
   ]
  },
  {
   "cell_type": "markdown",
   "id": "a5f5d959-b0c8-41e5-a3af-99d37a9209be",
   "metadata": {},
   "source": [
    "# \"Mohamed Salah\" has the overall Best in Goals And In Assist "
   ]
  },
  {
   "cell_type": "markdown",
   "id": "4abaaaa2-7386-4b16-aa02-a48fd77f4e74",
   "metadata": {},
   "source": [
    "# Team Analysis"
   ]
  },
  {
   "cell_type": "markdown",
   "id": "6cc67546-f5fb-4c11-8613-16d5756851b2",
   "metadata": {},
   "source": [
    "### 8. Identify the team with the most assists (Ast) in the dataset."
   ]
  },
  {
   "cell_type": "code",
   "execution_count": 14,
   "id": "00b7bc60-4df0-461d-bacd-d7de0b084ff9",
   "metadata": {
    "tags": []
   },
   "outputs": [
    {
     "name": "stdout",
     "output_type": "stream",
     "text": [
      "Team with the most assists: Liverpool\n"
     ]
    }
   ],
   "source": [
    "most_assists_team = df.groupby('Team')['Ast'].sum().idxmax()\n",
    "print(\"Team with the most assists:\", most_assists_team)"
   ]
  },
  {
   "cell_type": "markdown",
   "id": "c817e8c3-5241-4b05-a608-0a40efb87601",
   "metadata": {},
   "source": [
    "### 7. Which team has the highest total goals in the dataset?"
   ]
  },
  {
   "cell_type": "code",
   "execution_count": 15,
   "id": "38db8bcf-756b-4b24-a0d0-392bfae3f6a1",
   "metadata": {},
   "outputs": [
    {
     "name": "stdout",
     "output_type": "stream",
     "text": [
      "Team with the highest total goals: Manchester City\n"
     ]
    }
   ],
   "source": [
    "highest_goals_team = df.groupby('Team')['Gls'].sum().idxmax()\n",
    "print(\"Team with the highest total goals:\", highest_goals_team) "
   ]
  },
  {
   "cell_type": "markdown",
   "id": "99078c32-0c0a-451e-8e78-0ea7ffbff069",
   "metadata": {},
   "source": [
    "### 9. Calculate the average age of players for each team."
   ]
  },
  {
   "cell_type": "code",
   "execution_count": 16,
   "id": "02984973-b8df-4c64-bcb8-5e94272c1606",
   "metadata": {},
   "outputs": [
    {
     "name": "stdout",
     "output_type": "stream",
     "text": [
      "Average age of players for each team:\n",
      " Team\n",
      "Arsenal                    24.518519\n",
      "Aston Villa                24.967742\n",
      "Brentford                  24.206897\n",
      "Brighton & Hove Albion     24.730769\n",
      "Burnley                    28.956522\n",
      "Chelsea                    26.000000\n",
      "Crystal Palace             26.208333\n",
      "Everton                    25.151515\n",
      "Leeds United               23.310345\n",
      "Leicester City             25.428571\n",
      "Liverpool                  25.333333\n",
      "Manchester City            25.038462\n",
      "Manchester United          25.620690\n",
      "Newcastle United           27.310345\n",
      "Norwich City               23.964286\n",
      "Southampton                25.880000\n",
      "Tottenham Hotspur          24.480000\n",
      "Watford                    27.200000\n",
      "West Ham United            26.400000\n",
      "Wolverhampton Wanderers    25.038462\n",
      "Name: Age, dtype: float64\n"
     ]
    },
    {
     "name": "stderr",
     "output_type": "stream",
     "text": [
      "C:\\Users\\RafoffTech\\AppData\\Local\\Temp\\ipykernel_8280\\4141829774.py:1: SettingWithCopyWarning: \n",
      "A value is trying to be set on a copy of a slice from a DataFrame.\n",
      "Try using .loc[row_indexer,col_indexer] = value instead\n",
      "\n",
      "See the caveats in the documentation: https://pandas.pydata.org/pandas-docs/stable/user_guide/indexing.html#returning-a-view-versus-a-copy\n",
      "  df['Age'] = df['Age'].astype(float)  # Ensure 'Age' column is numeric\n"
     ]
    }
   ],
   "source": [
    "df['Age'] = df['Age'].astype(float)  # Ensure 'Age' column is numeric\n",
    "average_age_per_team = df.groupby('Team')['Age'].mean()\n",
    "print(\"Average age of players for each team:\\n\", average_age_per_team)"
   ]
  },
  {
   "cell_type": "markdown",
   "id": "131e3f45-5377-47c4-b040-f09b9f7c7aa0",
   "metadata": {},
   "source": [
    "### 10. Determine which team has the most yellow cards (CrdY) in total."
   ]
  },
  {
   "cell_type": "code",
   "execution_count": 17,
   "id": "ff998a4a-0076-4502-b595-17979ebee53d",
   "metadata": {},
   "outputs": [
    {
     "name": "stdout",
     "output_type": "stream",
     "text": [
      "Team with the most yellow cards: Leeds United\n"
     ]
    }
   ],
   "source": [
    "most_yellow_cards_team = df.groupby('Team')['CrdY'].sum().idxmax()\n",
    "print(\"Team with the most yellow cards:\", most_yellow_cards_team)"
   ]
  },
  {
   "cell_type": "markdown",
   "id": "2cd6057a-3e88-4ae5-9551-2a37f7dfe900",
   "metadata": {},
   "source": [
    "### 11. Which team has the best defensive record based on goals conceded?"
   ]
  },
  {
   "cell_type": "code",
   "execution_count": 18,
   "id": "99f81a17-311b-4dfd-bf1b-2ad369a14af9",
   "metadata": {},
   "outputs": [
    {
     "name": "stdout",
     "output_type": "stream",
     "text": [
      "The team with the best defensive record is TeamB with 15 goals conceded.\n"
     ]
    }
   ],
   "source": [
    "teams_data = [\n",
    "    {\"Team\": \"TeamA\", \"GoalsConceded\": 20},\n",
    "    {\"Team\": \"TeamB\", \"GoalsConceded\": 15},\n",
    "    {\"Team\": \"TeamC\", \"GoalsConceded\": 18},\n",
    "]\n",
    "best_defensive_team = min(teams_data, key=lambda x: x[\"GoalsConceded\"])\n",
    "print(f\"The team with the best defensive record is {best_defensive_team['Team']} with {best_defensive_team['GoalsConceded']} goals conceded.\")\n",
    "\n",
    " "
   ]
  },
  {
   "cell_type": "markdown",
   "id": "80a5bff6-0770-4591-b1c4-b9d6a492e256",
   "metadata": {},
   "source": [
    "# Position Analysis\n"
   ]
  },
  {
   "cell_type": "markdown",
   "id": "c2fc0221-f0da-456e-ba8f-f52b6d6e3100",
   "metadata": {},
   "source": [
    "### 12. Which playing position (Pos) has the highest average goals per player?\n"
   ]
  },
  {
   "cell_type": "code",
   "execution_count": 19,
   "id": "d8c1f7fa-b32c-42a4-8840-31d7c38fa995",
   "metadata": {
    "tags": []
   },
   "outputs": [
    {
     "name": "stdout",
     "output_type": "stream",
     "text": [
      "The playing position with the highest average goals per player is: FW\n"
     ]
    }
   ],
   "source": [
    "average_goals_per_position = df.groupby('Pos')['Gls'].mean()\n",
    "position_with_highest_average_goals = average_goals_per_position.idxmax()\n",
    "print(f\"The playing position with the highest average goals per player is: {position_with_highest_average_goals}\")"
   ]
  },
  {
   "cell_type": "markdown",
   "id": "37725621-1afe-4d1a-92f1-d6ef5c8e64ae",
   "metadata": {},
   "source": [
    "### 13. Identify the most common nationality (Nation) among defenders (DF).\n"
   ]
  },
  {
   "cell_type": "code",
   "execution_count": 20,
   "id": "a57d2c59-f526-454b-abf6-25d948502a1c",
   "metadata": {
    "tags": []
   },
   "outputs": [
    {
     "name": "stdout",
     "output_type": "stream",
     "text": [
      "The most common nationality among defenders is: Brentford\n"
     ]
    }
   ],
   "source": [
    "most_common_nationality_defenders = df[df['Pos'] == 'DF']['Team'].mode().iloc[0]\n",
    "print(f\"The most common nationality among defenders is: {most_common_nationality_defenders}\")"
   ]
  },
  {
   "cell_type": "markdown",
   "id": "04727ab5-c06a-41f7-b2e1-9db2cfa07153",
   "metadata": {},
   "source": [
    "### 14. Calculate the average age of midfielders (MF) and forwards (FW).\n"
   ]
  },
  {
   "cell_type": "code",
   "execution_count": 21,
   "id": "cad428a8-b729-42fc-9d92-ef7ba2b28d87",
   "metadata": {
    "tags": []
   },
   "outputs": [
    {
     "name": "stdout",
     "output_type": "stream",
     "text": [
      "The average age of midfielders is: 25.57 years\n",
      "The average age of forwards is: 25.31 years\n"
     ]
    }
   ],
   "source": [
    " average_age_midfielders = df[df['Pos'] == 'MF']['Age'].mean()\n",
    "average_age_forwards = df[df['Pos'] == 'FW']['Age'].mean()\n",
    "print(f\"The average age of midfielders is: {average_age_midfielders:.2f} years\")\n",
    "print(f\"The average age of forwards is: {average_age_forwards:.2f} years\")"
   ]
  },
  {
   "cell_type": "markdown",
   "id": "8eb0a937-b5c2-42ea-ae58-345970637a01",
   "metadata": {},
   "source": [
    "### 15. Who are the top-scoring goalkeepers (GK) in terms of goals scored?"
   ]
  },
  {
   "cell_type": "code",
   "execution_count": 22,
   "id": "754ff2de-1c19-4379-9a2e-4c4f83d1ad38",
   "metadata": {
    "tags": []
   },
   "outputs": [
    {
     "name": "stdout",
     "output_type": "stream",
     "text": [
      "                  Player                     Team  Gls\n",
      "2         Aaron Ramsdale                  Arsenal  0.0\n",
      "504           Angus Gunn             Norwich City  0.0\n",
      "372    Caoimhín Kelleher                Liverpool  0.0\n",
      "386              Ederson          Manchester City  0.0\n",
      "406         Zack Steffen          Manchester City  0.0\n",
      "419         David de Gea        Manchester United  0.0\n",
      "457      Martin Dúbravka         Newcastle United  0.0\n",
      "476          Karl Darlow         Newcastle United  0.0\n",
      "479      Freddie Woodman         Newcastle United  0.0\n",
      "492             Tim Krul             Norwich City  0.0\n",
      "532       Fraser Forster              Southampton  0.0\n",
      "20            Bernd Leno                  Arsenal  0.0\n",
      "534        Alex McCarthy              Southampton  0.0\n",
      "545      Willy Caballero              Southampton  0.0\n",
      "552          Hugo Lloris        Tottenham Hotspur  0.0\n",
      "591           Ben Foster                  Watford  0.0\n",
      "603      Daniel Bachmann                  Watford  0.0\n",
      "626     ?ukasz Fabia?ski          West Ham United  0.0\n",
      "646      Alphonse Areola          West Ham United  0.0\n",
      "658              José Sá  Wolverhampton Wanderers  0.0\n",
      "351              Alisson                Liverpool  0.0\n",
      "344           Danny Ward           Leicester City  0.0\n",
      "319    Kasper Schmeichel           Leicester City  0.0\n",
      "311  Kristoffer Klaesson             Leeds United  0.0\n",
      "42     Emiliano Martínez              Aston Villa  0.0\n",
      "65           Robin Olsen              Aston Villa  0.0\n",
      "66             Jed Steer              Aston Villa  0.0\n",
      "90            David Raya                Brentford  0.0\n",
      "95      Álvaro Fernández                Brentford  0.0\n",
      "104          Jonas Lössl                Brentford  0.0\n",
      "118       Robert Sánchez   Brighton & Hove Albion  0.0\n",
      "139         Jason Steele   Brighton & Hove Albion  0.0\n",
      "153            Nick Pope                  Burnley  0.0\n",
      "174      Wayne Hennessey                  Burnley  0.0\n",
      "185        Edouard Mendy                  Chelsea  0.0\n",
      "207    Kepa Arrizabalaga                  Chelsea  0.0\n",
      "221       Vicente Guaita           Crystal Palace  0.0\n",
      "234         Jack Butland           Crystal Palace  0.0\n",
      "246      Jordan Pickford                  Everton  0.0\n",
      "268        Asmir Begovi?                  Everton  0.0\n",
      "286        Illan Meslier             Leeds United  0.0\n",
      "680           John Ruddy  Wolverhampton Wanderers  0.0\n"
     ]
    }
   ],
   "source": [
    " goalkeeper_data = df[df['Pos'] == 'GK']\n",
    "\n",
    "# Sort the goalkeeper data based on the number of goals scored\n",
    "top_goalkeeper_data = goalkeeper_data.sort_values(by='Gls', ascending=False)\n",
    "\n",
    "# Display the top-scoring goalkeepers\n",
    "print(top_goalkeeper_data[['Player', 'Team', 'Gls']])"
   ]
  },
  {
   "cell_type": "markdown",
   "id": "2a63c392-9af0-491e-95db-55118e2594d6",
   "metadata": {},
   "source": [
    "# Expected Goals Analysis\n"
   ]
  },
  {
   "cell_type": "markdown",
   "id": "834d31e4-5d8a-4a98-bb22-845d3fcfef05",
   "metadata": {},
   "source": [
    "### 16. Is there a correlation between actual goals (Gls) and expected goals (xG)?\n"
   ]
  },
  {
   "cell_type": "code",
   "execution_count": 23,
   "id": "0c62408c-fdd2-446b-a67b-a4ffa1edfac5",
   "metadata": {
    "tags": []
   },
   "outputs": [
    {
     "name": "stdout",
     "output_type": "stream",
     "text": [
      "Correlation between Gls and xG: 0.9345941413427262\n"
     ]
    }
   ],
   "source": [
    "correlation = df['Gls'].corr(df['xG'])\n",
    "\n",
    "print(f\"Correlation between Gls and xG: {correlation}\")"
   ]
  },
  {
   "cell_type": "markdown",
   "id": "824937ea-7b54-48a4-aec9-8c594d5daa0e",
   "metadata": {},
   "source": [
    "### 17. Which player has the highest non-penalty expected goals (npxG)?\n"
   ]
  },
  {
   "cell_type": "code",
   "execution_count": 24,
   "id": "dcd144d1-95b6-452c-806f-503ca6bbc8e3",
   "metadata": {
    "tags": []
   },
   "outputs": [
    {
     "name": "stdout",
     "output_type": "stream",
     "text": [
      "Player with the highest npxG: Harry Kane\n"
     ]
    }
   ],
   "source": [
    "player_highest_npxG = df.loc[df['npxG'].idxmax()]['Player']\n",
    "\n",
    "print(f\"Player with the highest npxG: {player_highest_npxG}\")"
   ]
  },
  {
   "cell_type": "markdown",
   "id": "db923aea-394b-44bb-bd49-d1f335f19568",
   "metadata": {},
   "source": [
    "### 18. Calculate the difference between actual goals and expected goals for each player.\n",
    "\n"
   ]
  },
  {
   "cell_type": "code",
   "execution_count": 25,
   "id": "a620bdb4-49b0-44e1-a92c-bee9130dc14c",
   "metadata": {
    "tags": []
   },
   "outputs": [
    {
     "name": "stdout",
     "output_type": "stream",
     "text": [
      "                 Player                     Team   Gls   xG  Gls_minus_xG\n",
      "0           Bukayo Saka                  Arsenal  11.0  9.7           1.3\n",
      "1    Gabriel Dos Santos                  Arsenal   5.0  2.7           2.3\n",
      "2        Aaron Ramsdale                  Arsenal   0.0  0.0           0.0\n",
      "3             Ben White                  Arsenal   0.0  1.0          -1.0\n",
      "4       Martin Ødegaard                  Arsenal   7.0  4.8           2.2\n",
      "..                  ...                      ...   ...  ...           ...\n",
      "678         Luke Cundle  Wolverhampton Wanderers   0.0  0.0           0.0\n",
      "679           Chiquinho  Wolverhampton Wanderers   0.0  0.3          -0.3\n",
      "680          John Ruddy  Wolverhampton Wanderers   0.0  0.0           0.0\n",
      "681       Chem Campbell  Wolverhampton Wanderers   0.0  0.0           0.0\n",
      "682  Morgan Gibbs-White  Wolverhampton Wanderers   0.0  0.1          -0.1\n",
      "\n",
      "[546 rows x 5 columns]\n"
     ]
    },
    {
     "name": "stderr",
     "output_type": "stream",
     "text": [
      "C:\\Users\\RafoffTech\\AppData\\Local\\Temp\\ipykernel_8280\\2727404187.py:1: SettingWithCopyWarning: \n",
      "A value is trying to be set on a copy of a slice from a DataFrame.\n",
      "Try using .loc[row_indexer,col_indexer] = value instead\n",
      "\n",
      "See the caveats in the documentation: https://pandas.pydata.org/pandas-docs/stable/user_guide/indexing.html#returning-a-view-versus-a-copy\n",
      "  df['Gls_minus_xG'] = df['Gls'] - df['xG']\n"
     ]
    }
   ],
   "source": [
    "df['Gls_minus_xG'] = df['Gls'] - df['xG']\n",
    "print(df[['Player',\"Team\", 'Gls', 'xG', 'Gls_minus_xG',]])"
   ]
  },
  {
   "cell_type": "markdown",
   "id": "d3817eb5-bd65-428e-b870-2190f074b1bc",
   "metadata": {},
   "source": [
    "# Minutes Played\n"
   ]
  },
  {
   "cell_type": "markdown",
   "id": "00b13fe0-1d15-4df5-9789-faa4809d611b",
   "metadata": {},
   "source": [
    "### 19. Identify the players with the most minutes played (Min).\n"
   ]
  },
  {
   "cell_type": "code",
   "execution_count": 26,
   "id": "8ee8a2d9-4486-4001-82a0-fd94ab8a986c",
   "metadata": {
    "tags": []
   },
   "outputs": [
    {
     "name": "stdout",
     "output_type": "stream",
     "text": [
      "Player(s) with the most minutes played:\n",
      "Player    David de Gea\n",
      "Min               3420\n",
      "Name: 419, dtype: object\n"
     ]
    },
    {
     "name": "stderr",
     "output_type": "stream",
     "text": [
      "C:\\Users\\RafoffTech\\AppData\\Local\\Temp\\ipykernel_8280\\2192628827.py:1: SettingWithCopyWarning: \n",
      "A value is trying to be set on a copy of a slice from a DataFrame.\n",
      "Try using .loc[row_indexer,col_indexer] = value instead\n",
      "\n",
      "See the caveats in the documentation: https://pandas.pydata.org/pandas-docs/stable/user_guide/indexing.html#returning-a-view-versus-a-copy\n",
      "  df['Min'] = pd.to_numeric(df['Min'].str.replace(',', ''), errors='coerce')\n"
     ]
    }
   ],
   "source": [
    "df['Min'] = pd.to_numeric(df['Min'].str.replace(',', ''), errors='coerce')\n",
    "\n",
    "# Find the player(s) with the most minutes played\n",
    "players_with_most_minutes = df.loc[df['Min'].idxmax()]\n",
    "\n",
    "# Display the result\n",
    "print(\"Player(s) with the most minutes played:\")\n",
    "print(players_with_most_minutes[['Player', 'Min']])\n"
   ]
  },
  {
   "cell_type": "markdown",
   "id": "21f840dd-5ca4-4704-9ba9-0f8e296d524f",
   "metadata": {},
   "source": [
    "### 20. Calculate the average number of starts for players.\n",
    "\n"
   ]
  },
  {
   "cell_type": "code",
   "execution_count": 27,
   "id": "53262bb2-73ca-41be-9060-23fedce6f4d5",
   "metadata": {
    "tags": []
   },
   "outputs": [
    {
     "name": "stdout",
     "output_type": "stream",
     "text": [
      "Average Number of Starts: 35.5\n"
     ]
    }
   ],
   "source": [
    " players_data = [\n",
    "    {\"Player\": \"Bukayo Saka\", \"Starts\": 36},\n",
    "    {\"Player\": \"Gabriel Dos Santos\", \"Starts\": 35},\n",
    "    # Add more player data as needed\n",
    "]\n",
    "\n",
    "# Calculate the average number of starts\n",
    "total_starts = sum(player[\"Starts\"] for player in players_data)\n",
    "average_starts = total_starts / len(players_data)\n",
    "\n",
    "print(\"Average Number of Starts:\", average_starts)"
   ]
  },
  {
   "cell_type": "markdown",
   "id": "ba24b247-5847-4529-a284-6b4da8ae6934",
   "metadata": {},
   "source": [
    "# Discipline\n"
   ]
  },
  {
   "cell_type": "markdown",
   "id": "69d7547b-7304-4af0-9269-8f19bb4a564d",
   "metadata": {},
   "source": [
    "### 21. Who are the players with the most red cards (CrdR)?\n"
   ]
  },
  {
   "cell_type": "code",
   "execution_count": 28,
   "id": "7d7b1d50-36b3-4909-b844-094ef6700c80",
   "metadata": {
    "tags": []
   },
   "outputs": [
    {
     "name": "stdout",
     "output_type": "stream",
     "text": [
      "           Player  CrdR\n",
      "47     Ezri Konsa   2.0\n",
      "663  Raúl Jiménez   2.0\n"
     ]
    }
   ],
   "source": [
    " players_with_most_red_cards = df[df['CrdR'] == df['CrdR'].max()]\n",
    "print(players_with_most_red_cards[['Player', 'CrdR']]) "
   ]
  },
  {
   "cell_type": "markdown",
   "id": "bfccd802-6a38-4e28-8310-ef043be51286",
   "metadata": {},
   "source": [
    "### 22. Calculate the average number of yellow cards (CrdY) per team.\n"
   ]
  },
  {
   "cell_type": "code",
   "execution_count": 29,
   "id": "da92911f-d60b-4da1-b9a1-f84ee47616a9",
   "metadata": {
    "tags": []
   },
   "outputs": [
    {
     "name": "stdout",
     "output_type": "stream",
     "text": [
      "Team\n",
      "Arsenal                    2.481481\n",
      "Aston Villa                2.612903\n",
      "Brentford                  2.241379\n",
      "Brighton & Hove Albion     2.769231\n",
      "Burnley                    2.956522\n",
      "Chelsea                    2.423077\n",
      "Crystal Palace             2.875000\n",
      "Everton                    2.484848\n",
      "Leeds United               3.448276\n",
      "Leicester City             1.964286\n",
      "Liverpool                  1.851852\n",
      "Manchester City            1.615385\n",
      "Manchester United          2.655172\n",
      "Newcastle United           2.793103\n",
      "Norwich City               2.035714\n",
      "Southampton                2.600000\n",
      "Tottenham Hotspur          2.760000\n",
      "Watford                    2.100000\n",
      "West Ham United            2.080000\n",
      "Wolverhampton Wanderers    2.384615\n",
      "Name: CrdY, dtype: float64\n"
     ]
    }
   ],
   "source": [
    "average_yellow_cards_per_team = df.groupby('Team')['CrdY'].mean()\n",
    "print(average_yellow_cards_per_team)"
   ]
  },
  {
   "cell_type": "markdown",
   "id": "999b5fec-0ff0-4736-9e3e-6441755d3471",
   "metadata": {},
   "source": [
    "### 23. Analyze the relationship between yellow cards and player age.\n",
    "\n"
   ]
  },
  {
   "cell_type": "code",
   "execution_count": 30,
   "id": "52d670d2-55c2-4999-b725-310b31127d56",
   "metadata": {
    "tags": []
   },
   "outputs": [
    {
     "data": {
      "image/png": "[encoded data removed]",
      "text/plain": [
       "<Figure size 1000x600 with 1 Axes>"
      ]
     },
     "metadata": {},
     "output_type": "display_data"
    }
   ],
   "source": [
    "plt.figure(figsize=(10, 6))\n",
    "sns.scatterplot(x='Age', y='CrdY', data=df)\n",
    "plt.title('Relationship between Yellow Cards and Player Age')\n",
    "plt.xlabel('Player Age')\n",
    "plt.ylabel('Yellow Cards (CrdY)')\n",
    "plt.show() "
   ]
  },
  {
   "cell_type": "markdown",
   "id": "8f163684-0cb7-41ae-94fe-285f6c9232a9",
   "metadata": {},
   "source": [
    "# Efficiency Analysis\n"
   ]
  },
  {
   "cell_type": "markdown",
   "id": "d7918307-690f-4b82-8efe-7d1e753bdd95",
   "metadata": {},
   "source": [
    "### 24. Calculate the ratio of goals to expected goals (G/xG) for each player.\n"
   ]
  },
  {
   "cell_type": "code",
   "execution_count": 31,
   "id": "092e239b-104e-42e4-8323-0417e5840bd5",
   "metadata": {
    "tags": []
   },
   "outputs": [
    {
     "name": "stdout",
     "output_type": "stream",
     "text": [
      "      Team   Nation    Pos   Age   Gls   xG  G_xG_Ratio\n",
      "0  Arsenal  eng ENG  FW,MF  19.0  33.1  9.7    3.412371\n",
      "1  Arsenal   br BRA     DF  23.0  34.0  2.7   12.592593\n"
     ]
    }
   ],
   "source": [
    " \n",
    "\n",
    "data = {\n",
    "    'Team': ['Arsenal', 'Arsenal'],\n",
    "    'Nation': ['eng ENG', 'br BRA'],\n",
    "    'Pos': ['FW,MF', 'DF'],\n",
    "    'Age': [19.0, 23.0],\n",
    "    'MP': [38, 35],\n",
    "    'Starts': [36, 35],\n",
    "    'Min': ['2,978', '3,063'],\n",
    "    'Gls': [33.1, 34.0],\n",
    "    'xG': [9.7, 2.7]\n",
    "}\n",
    "\n",
    "df = pd.DataFrame(data)\n",
    "\n",
    "# Convert 'Min' column to numeric\n",
    "df['Min'] = df['Min'].str.replace(',', '').astype(float)\n",
    "\n",
    "# Calculate the G/xG ratio\n",
    "df['G_xG_Ratio'] = df['Gls'] / df['xG']\n",
    "\n",
    "# Display the result\n",
    "print(df[['Team', 'Nation', 'Pos', 'Age', 'Gls', 'xG', 'G_xG_Ratio']])\n",
    "\n",
    "    \n"
   ]
  },
  {
   "cell_type": "markdown",
   "id": "35909e1d-e045-4df4-a72b-8a00b0aa846b",
   "metadata": {},
   "source": [
    "### 26. Who has the best combined non-penalty goals and assists per 90 minutes (G+A-PK)?\n",
    "\n"
   ]
  },
  {
   "cell_type": "code",
   "execution_count": 32,
   "id": "585d1919-30b4-413f-ab2e-07c33d0262e5",
   "metadata": {
    "tags": []
   },
   "outputs": [
    {
     "name": "stdout",
     "output_type": "stream",
     "text": [
      "Player with the best G+A-PK per 90:\n",
      "Player           Bukayo Saka\n",
      "G+A-PK per 90       0.422222\n",
      "Name: 0, dtype: object\n"
     ]
    }
   ],
   "source": [
    "\n",
    "data = {\n",
    "    'Player': ['Bukayo Saka', 'Gabriel Dos Santos'],\n",
    "    'Team': ['Arsenal', 'Arsenal'],\n",
    "    'Pos': ['FW,MF', 'DF'],\n",
    "    'Age': [19.0, 23.0],\n",
    "    'MP': [38, 35],\n",
    "    'Starts': [36, 35],\n",
    "    'Min': ['2,978', '3,063'],\n",
    "    '90s': [36, 35],\n",
    "    'Gls': [33.1, 34.0],\n",
    "    'G+A-PK': [15.2, 3.5]\n",
    "}\n",
    "\n",
    "df = pd.DataFrame(data)\n",
    "\n",
    "# Convert 'Min' column to numeric\n",
    "df['Min'] = df['Min'].str.replace(',', '').astype(float)\n",
    "\n",
    "# Calculate G+A-PK per 90 minutes\n",
    "df['G+A-PK per 90'] = df['G+A-PK'] / df['90s']\n",
    "\n",
    "# Find the player with the highest G+A-PK per 90\n",
    "best_player = df.loc[df['G+A-PK per 90'].idxmax()]\n",
    "\n",
    "print(\"Player with the best G+A-PK per 90:\")\n",
    "print(best_player[['Player', 'G+A-PK per 90']])\n"
   ]
  },
  {
   "cell_type": "markdown",
   "id": "a2474943-d691-4f86-b069-fb548ec9fec0",
   "metadata": {},
   "source": [
    "# Age and Performance\n",
    "\n"
   ]
  },
  {
   "cell_type": "markdown",
   "id": "e3c4f2fe-9fb6-4941-8dbd-cd49fced339a",
   "metadata": {},
   "source": [
    "### 27. Is there a correlation between player age and performance metrics like goals or assists?"
   ]
  },
  {
   "cell_type": "code",
   "execution_count": 33,
   "id": "4558b1b9-a444-4638-a7f7-40377b44a028",
   "metadata": {},
   "outputs": [
    {
     "data": {
      "image/png": "[encoded data removed]",
      "text/plain": [
       "<Figure size 640x480 with 1 Axes>"
      ]
     },
     "metadata": {},
     "output_type": "display_data"
    },
    {
     "data": {
      "image/png": "[encoded data removed]",
      "text/plain": [
       "<Figure size 640x480 with 1 Axes>"
      ]
     },
     "metadata": {},
     "output_type": "display_data"
    }
   ],
   "source": [
    "\n",
    "data = {\n",
    "    'Player': ['Bukayo Saka', 'Gabriel Dos Santos'],\n",
    "    'Team': ['Arsenal', 'Arsenal'],\n",
    "    'Position': ['FW,MF', 'DF'],\n",
    "    'Age': [19.0, 23.0],\n",
    "    'Goals': [33.1, 34.0],  # Replace with actual goal data\n",
    "    'Assists': [11.0, 5.0],  # Replace with actual assist data\n",
    "    # Add other relevant columns here\n",
    "}\n",
    "\n",
    "df = pd.DataFrame(data)\n",
    "\n",
    "# Scatter plot to visualize the correlation between age and goals\n",
    "sns.scatterplot(x='Age', y='Goals', data=df, hue='Player')\n",
    "plt.title('Correlation between Age and Goals')\n",
    "plt.xlabel('Age')\n",
    "plt.ylabel('Goals')\n",
    "plt.show()\n",
    "\n",
    "# Scatter plot to visualize the correlation between age and assists\n",
    "sns.scatterplot(x='Age', y='Assists', data=df, hue='Player')\n",
    "plt.title('Correlation between Age and Assists')\n",
    "plt.xlabel('Age')\n",
    "plt.ylabel('Assists')\n",
    "plt.show()\n"
   ]
  },
  {
   "cell_type": "markdown",
   "id": "3af9109e-c0db-463d-a04f-4a910b7dd370",
   "metadata": {},
   "source": [
    "### 28. How does the age distribution differ for different playing positions?\n"
   ]
  },
  {
   "cell_type": "code",
   "execution_count": 34,
   "id": "8488cacc-508f-49d2-a6df-955608062035",
   "metadata": {
    "tags": []
   },
   "outputs": [
    {
     "data": {
      "image/png": "[encoded data removed]",
      "text/plain": [
       "<Figure size 1000x600 with 1 Axes>"
      ]
     },
     "metadata": {},
     "output_type": "display_data"
    }
   ],
   "source": [
    " import pandas as pd\n",
    "import matplotlib.pyplot as plt\n",
    "\n",
    "# Assuming you have a DataFrame named 'df' with the player information\n",
    "# Replace this with your actual DataFrame or load your data accordingly\n",
    "\n",
    "# Example DataFrame\n",
    "data = {\n",
    "    'Player': ['Bukayo Saka', 'Gabriel Dos Santos'],\n",
    "    'Team': ['Arsenal', 'Arsenal'],\n",
    "    'Nation': ['ENG', 'BRA'],\n",
    "    'Pos': ['FW,MF', 'DF'],\n",
    "    'Age': [19.0, 23.0],\n",
    "    # Add other columns as needed\n",
    "}\n",
    "\n",
    "df = pd.DataFrame(data)\n",
    "\n",
    "# Split the 'Pos' column to handle multiple positions per player\n",
    "df['Position'] = df['Pos'].str.split(',')\n",
    "\n",
    "# Explode the DataFrame to have one row for each position\n",
    "df_exploded = df.explode('Position')\n",
    "\n",
    "# Plotting\n",
    "plt.figure(figsize=(10, 6))\n",
    "colors = {'FW': 'red', 'MF': 'blue', 'DF': 'green'}  # Adjust colors as needed\n",
    "\n",
    "# Create a bar plot\n",
    "plt.bar(df_exploded['Position'], df_exploded['Age'], color=df_exploded['Position'].map(colors))\n",
    "\n",
    "plt.title('Age Distribution for Different Playing Positions')\n",
    "plt.xlabel('Position')\n",
    "plt.ylabel('Average Age')\n",
    "\n",
    "plt.show()\n"
   ]
  },
  {
   "cell_type": "markdown",
   "id": "16712fa9-1e57-4f56-a91b-4da1371a2099",
   "metadata": {},
   "source": [
    "### 29. Analyze the relationship between age and disciplinary actions (yellow and red cards)\n"
   ]
  },
  {
   "cell_type": "code",
   "execution_count": 35,
   "id": "5a3a6237-97b1-4b8f-8ed9-52628ebdb2bb",
   "metadata": {
    "tags": []
   },
   "outputs": [
    {
     "data": {
      "image/png": "[encoded data removed]",
      "text/plain": [
       "<Figure size 640x480 with 1 Axes>"
      ]
     },
     "metadata": {},
     "output_type": "display_data"
    },
    {
     "name": "stdout",
     "output_type": "stream",
     "text": [
      "Correlation between Age and Yellow Cards: -1.0\n",
      "Correlation between Age and Red Cards: -0.9999999999999999\n"
     ]
    }
   ],
   "source": [
    "import pandas as pd\n",
    "import matplotlib.pyplot as plt\n",
    "\n",
    "# Assuming you have a DataFrame named 'data' with columns 'Age', 'Yellow Cards', and 'Red Cards'\n",
    "# Replace this with your actual DataFrame and column names\n",
    "\n",
    "data = pd.DataFrame({\n",
    "    'Age': [19.0, 23.0],\n",
    "    'Yellow_Cards': [33, 5],\n",
    "    'Red_Cards': [1, 0]\n",
    "})\n",
    "\n",
    "# Scatter plot\n",
    "plt.scatter(data['Age'], data['Yellow_Cards'], label='Yellow Cards', color='yellow')\n",
    "plt.scatter(data['Age'], data['Red_Cards'], label='Red Cards', color='red')\n",
    "\n",
    "plt.title('Relationship between Age and Disciplinary Actions')\n",
    "plt.xlabel('Age')\n",
    "plt.ylabel('Number of Cards')\n",
    "plt.legend()\n",
    "plt.show()\n",
    "\n",
    "# Calculate correlation coefficients\n",
    "correlation_yellow = data['Age'].corr(data['Yellow_Cards'])\n",
    "correlation_red = data['Age'].corr(data['Red_Cards'])\n",
    "\n",
    "print(f'Correlation between Age and Yellow Cards: {correlation_yellow}')\n",
    "print(f'Correlation between Age and Red Cards: {correlation_red}')\n"
   ]
  },
  {
   "cell_type": "markdown",
   "id": "ae5ab152-4995-4b4d-b22f-4374376c40ef",
   "metadata": {},
   "source": [
    "### 30. Calculate the average age for players from different nationalities (Nations).\n"
   ]
  },
  {
   "cell_type": "code",
   "execution_count": 36,
   "id": "234a2afa-7410-4fb7-bfa3-0f7299c53f4f",
   "metadata": {
    "tags": []
   },
   "outputs": [
    {
     "name": "stdout",
     "output_type": "stream",
     "text": [
      "Nation\n",
      "BRA    23.0\n",
      "ENG    19.0\n",
      "Name: Age, dtype: float64\n"
     ]
    }
   ],
   "source": [
    "average_age_by_nationality = df.groupby('Nation')['Age'].mean()\n",
    "print(average_age_by_nationality) "
   ]
  },
  {
   "cell_type": "code",
   "execution_count": null,
   "id": "ba145683-243f-4703-920a-61f67d57cad6",
   "metadata": {},
   "outputs": [],
   "source": []
  },
  {
   "cell_type": "code",
   "execution_count": null,
   "id": "1337fb47-a677-40eb-a10c-ebc884c0b713",
   "metadata": {},
   "outputs": [],
   "source": []
  }
 ],
 "metadata": {
  "kernelspec": {
   "display_name": "Python 3 (ipykernel)",
   "language": "python",
   "name": "python3"
  },
  "language_info": {
   "codemirror_mode": {
    "name": "ipython",
    "version": 3
   },
   "file_extension": ".py",
   "mimetype": "text/x-python",
   "name": "python",
   "nbconvert_exporter": "python",
   "pygments_lexer": "ipython3",
   "version": "3.11.5"
  }
 },
 "nbformat": 4,
 "nbformat_minor": 5
}
