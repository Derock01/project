{
 "cells": [
  {
   "cell_type": "code",
   "execution_count": 1,
   "id": "9a5300fd-3e76-49f9-9df0-650ce4252496",
   "metadata": {},
   "outputs": [],
   "source": [
    "import pandas as pd\n",
    "import numpy as np\n",
    "import matplotlib.pyplot as plt\n",
    "import seaborn as sns"
   ]
  },
  {
   "cell_type": "code",
   "execution_count": 2,
   "id": "4eefdeb4-594b-4e72-9b8e-09a4f5e8b35a",
   "metadata": {
    "tags": []
   },
   "outputs": [
    {
     "data": {
      "text/html": [
       "<div>\n",
       "<style scoped>\n",
       "    .dataframe tbody tr th:only-of-type {\n",
       "        vertical-align: middle;\n",
       "    }\n",
       "\n",
       "    .dataframe tbody tr th {\n",
       "        vertical-align: top;\n",
       "    }\n",
       "\n",
       "    .dataframe thead th {\n",
       "        text-align: right;\n",
       "    }\n",
       "</style>\n",
       "<table border=\"1\" class=\"dataframe\">\n",
       "  <thead>\n",
       "    <tr style=\"text-align: right;\">\n",
       "      <th></th>\n",
       "      <th>Rank</th>\n",
       "      <th>Title</th>\n",
       "      <th>Genre</th>\n",
       "      <th>Description</th>\n",
       "      <th>Director</th>\n",
       "      <th>Actors</th>\n",
       "      <th>Year</th>\n",
       "      <th>Runtime (Minutes)</th>\n",
       "      <th>Rating</th>\n",
       "      <th>Votes</th>\n",
       "      <th>Revenue (Millions)</th>\n",
       "      <th>Metascore</th>\n",
       "    </tr>\n",
       "  </thead>\n",
       "  <tbody>\n",
       "    <tr>\n",
       "      <th>0</th>\n",
       "      <td>1</td>\n",
       "      <td>Guardians of the Galaxy</td>\n",
       "      <td>Action,Adventure,Sci-Fi</td>\n",
       "      <td>A group of intergalactic criminals are forced ...</td>\n",
       "      <td>James Gunn</td>\n",
       "      <td>Chris Pratt, Vin Diesel, Bradley Cooper, Zoe S...</td>\n",
       "      <td>2014</td>\n",
       "      <td>121</td>\n",
       "      <td>8.1</td>\n",
       "      <td>757074</td>\n",
       "      <td>333.13</td>\n",
       "      <td>76.0</td>\n",
       "    </tr>\n",
       "    <tr>\n",
       "      <th>1</th>\n",
       "      <td>2</td>\n",
       "      <td>Prometheus</td>\n",
       "      <td>Adventure,Mystery,Sci-Fi</td>\n",
       "      <td>Following clues to the origin of mankind, a te...</td>\n",
       "      <td>Ridley Scott</td>\n",
       "      <td>Noomi Rapace, Logan Marshall-Green, Michael Fa...</td>\n",
       "      <td>2012</td>\n",
       "      <td>124</td>\n",
       "      <td>7.0</td>\n",
       "      <td>485820</td>\n",
       "      <td>126.46</td>\n",
       "      <td>65.0</td>\n",
       "    </tr>\n",
       "    <tr>\n",
       "      <th>2</th>\n",
       "      <td>3</td>\n",
       "      <td>Split</td>\n",
       "      <td>Horror,Thriller</td>\n",
       "      <td>Three girls are kidnapped by a man with a diag...</td>\n",
       "      <td>M. Night Shyamalan</td>\n",
       "      <td>James McAvoy, Anya Taylor-Joy, Haley Lu Richar...</td>\n",
       "      <td>2016</td>\n",
       "      <td>117</td>\n",
       "      <td>7.3</td>\n",
       "      <td>157606</td>\n",
       "      <td>138.12</td>\n",
       "      <td>62.0</td>\n",
       "    </tr>\n",
       "    <tr>\n",
       "      <th>3</th>\n",
       "      <td>4</td>\n",
       "      <td>Sing</td>\n",
       "      <td>Animation,Comedy,Family</td>\n",
       "      <td>In a city of humanoid animals, a hustling thea...</td>\n",
       "      <td>Christophe Lourdelet</td>\n",
       "      <td>Matthew McConaughey,Reese Witherspoon, Seth Ma...</td>\n",
       "      <td>2016</td>\n",
       "      <td>108</td>\n",
       "      <td>7.2</td>\n",
       "      <td>60545</td>\n",
       "      <td>270.32</td>\n",
       "      <td>59.0</td>\n",
       "    </tr>\n",
       "    <tr>\n",
       "      <th>4</th>\n",
       "      <td>5</td>\n",
       "      <td>Suicide Squad</td>\n",
       "      <td>Action,Adventure,Fantasy</td>\n",
       "      <td>A secret government agency recruits some of th...</td>\n",
       "      <td>David Ayer</td>\n",
       "      <td>Will Smith, Jared Leto, Margot Robbie, Viola D...</td>\n",
       "      <td>2016</td>\n",
       "      <td>123</td>\n",
       "      <td>6.2</td>\n",
       "      <td>393727</td>\n",
       "      <td>325.02</td>\n",
       "      <td>40.0</td>\n",
       "    </tr>\n",
       "    <tr>\n",
       "      <th>...</th>\n",
       "      <td>...</td>\n",
       "      <td>...</td>\n",
       "      <td>...</td>\n",
       "      <td>...</td>\n",
       "      <td>...</td>\n",
       "      <td>...</td>\n",
       "      <td>...</td>\n",
       "      <td>...</td>\n",
       "      <td>...</td>\n",
       "      <td>...</td>\n",
       "      <td>...</td>\n",
       "      <td>...</td>\n",
       "    </tr>\n",
       "    <tr>\n",
       "      <th>995</th>\n",
       "      <td>996</td>\n",
       "      <td>Secret in Their Eyes</td>\n",
       "      <td>Crime,Drama,Mystery</td>\n",
       "      <td>A tight-knit team of rising investigators, alo...</td>\n",
       "      <td>Billy Ray</td>\n",
       "      <td>Chiwetel Ejiofor, Nicole Kidman, Julia Roberts...</td>\n",
       "      <td>2015</td>\n",
       "      <td>111</td>\n",
       "      <td>6.2</td>\n",
       "      <td>27585</td>\n",
       "      <td>NaN</td>\n",
       "      <td>45.0</td>\n",
       "    </tr>\n",
       "    <tr>\n",
       "      <th>996</th>\n",
       "      <td>997</td>\n",
       "      <td>Hostel: Part II</td>\n",
       "      <td>Horror</td>\n",
       "      <td>Three American college students studying abroa...</td>\n",
       "      <td>Eli Roth</td>\n",
       "      <td>Lauren German, Heather Matarazzo, Bijou Philli...</td>\n",
       "      <td>2007</td>\n",
       "      <td>94</td>\n",
       "      <td>5.5</td>\n",
       "      <td>73152</td>\n",
       "      <td>17.54</td>\n",
       "      <td>46.0</td>\n",
       "    </tr>\n",
       "    <tr>\n",
       "      <th>997</th>\n",
       "      <td>998</td>\n",
       "      <td>Step Up 2: The Streets</td>\n",
       "      <td>Drama,Music,Romance</td>\n",
       "      <td>Romantic sparks occur between two dance studen...</td>\n",
       "      <td>Jon M. Chu</td>\n",
       "      <td>Robert Hoffman, Briana Evigan, Cassie Ventura,...</td>\n",
       "      <td>2008</td>\n",
       "      <td>98</td>\n",
       "      <td>6.2</td>\n",
       "      <td>70699</td>\n",
       "      <td>58.01</td>\n",
       "      <td>50.0</td>\n",
       "    </tr>\n",
       "    <tr>\n",
       "      <th>998</th>\n",
       "      <td>999</td>\n",
       "      <td>Search Party</td>\n",
       "      <td>Adventure,Comedy</td>\n",
       "      <td>A pair of friends embark on a mission to reuni...</td>\n",
       "      <td>Scot Armstrong</td>\n",
       "      <td>Adam Pally, T.J. Miller, Thomas Middleditch,Sh...</td>\n",
       "      <td>2014</td>\n",
       "      <td>93</td>\n",
       "      <td>5.6</td>\n",
       "      <td>4881</td>\n",
       "      <td>NaN</td>\n",
       "      <td>22.0</td>\n",
       "    </tr>\n",
       "    <tr>\n",
       "      <th>999</th>\n",
       "      <td>1000</td>\n",
       "      <td>Nine Lives</td>\n",
       "      <td>Comedy,Family,Fantasy</td>\n",
       "      <td>A stuffy businessman finds himself trapped ins...</td>\n",
       "      <td>Barry Sonnenfeld</td>\n",
       "      <td>Kevin Spacey, Jennifer Garner, Robbie Amell,Ch...</td>\n",
       "      <td>2016</td>\n",
       "      <td>87</td>\n",
       "      <td>5.3</td>\n",
       "      <td>12435</td>\n",
       "      <td>19.64</td>\n",
       "      <td>11.0</td>\n",
       "    </tr>\n",
       "  </tbody>\n",
       "</table>\n",
       "<p>1000 rows × 12 columns</p>\n",
       "</div>"
      ],
      "text/plain": [
       "     Rank                    Title                     Genre  \\\n",
       "0       1  Guardians of the Galaxy   Action,Adventure,Sci-Fi   \n",
       "1       2               Prometheus  Adventure,Mystery,Sci-Fi   \n",
       "2       3                    Split           Horror,Thriller   \n",
       "3       4                     Sing   Animation,Comedy,Family   \n",
       "4       5            Suicide Squad  Action,Adventure,Fantasy   \n",
       "..    ...                      ...                       ...   \n",
       "995   996     Secret in Their Eyes       Crime,Drama,Mystery   \n",
       "996   997          Hostel: Part II                    Horror   \n",
       "997   998   Step Up 2: The Streets       Drama,Music,Romance   \n",
       "998   999             Search Party          Adventure,Comedy   \n",
       "999  1000               Nine Lives     Comedy,Family,Fantasy   \n",
       "\n",
       "                                           Description              Director  \\\n",
       "0    A group of intergalactic criminals are forced ...            James Gunn   \n",
       "1    Following clues to the origin of mankind, a te...          Ridley Scott   \n",
       "2    Three girls are kidnapped by a man with a diag...    M. Night Shyamalan   \n",
       "3    In a city of humanoid animals, a hustling thea...  Christophe Lourdelet   \n",
       "4    A secret government agency recruits some of th...            David Ayer   \n",
       "..                                                 ...                   ...   \n",
       "995  A tight-knit team of rising investigators, alo...             Billy Ray   \n",
       "996  Three American college students studying abroa...              Eli Roth   \n",
       "997  Romantic sparks occur between two dance studen...            Jon M. Chu   \n",
       "998  A pair of friends embark on a mission to reuni...        Scot Armstrong   \n",
       "999  A stuffy businessman finds himself trapped ins...      Barry Sonnenfeld   \n",
       "\n",
       "                                                Actors  Year  \\\n",
       "0    Chris Pratt, Vin Diesel, Bradley Cooper, Zoe S...  2014   \n",
       "1    Noomi Rapace, Logan Marshall-Green, Michael Fa...  2012   \n",
       "2    James McAvoy, Anya Taylor-Joy, Haley Lu Richar...  2016   \n",
       "3    Matthew McConaughey,Reese Witherspoon, Seth Ma...  2016   \n",
       "4    Will Smith, Jared Leto, Margot Robbie, Viola D...  2016   \n",
       "..                                                 ...   ...   \n",
       "995  Chiwetel Ejiofor, Nicole Kidman, Julia Roberts...  2015   \n",
       "996  Lauren German, Heather Matarazzo, Bijou Philli...  2007   \n",
       "997  Robert Hoffman, Briana Evigan, Cassie Ventura,...  2008   \n",
       "998  Adam Pally, T.J. Miller, Thomas Middleditch,Sh...  2014   \n",
       "999  Kevin Spacey, Jennifer Garner, Robbie Amell,Ch...  2016   \n",
       "\n",
       "     Runtime (Minutes)  Rating   Votes  Revenue (Millions)  Metascore  \n",
       "0                  121     8.1  757074              333.13       76.0  \n",
       "1                  124     7.0  485820              126.46       65.0  \n",
       "2                  117     7.3  157606              138.12       62.0  \n",
       "3                  108     7.2   60545              270.32       59.0  \n",
       "4                  123     6.2  393727              325.02       40.0  \n",
       "..                 ...     ...     ...                 ...        ...  \n",
       "995                111     6.2   27585                 NaN       45.0  \n",
       "996                 94     5.5   73152               17.54       46.0  \n",
       "997                 98     6.2   70699               58.01       50.0  \n",
       "998                 93     5.6    4881                 NaN       22.0  \n",
       "999                 87     5.3   12435               19.64       11.0  \n",
       "\n",
       "[1000 rows x 12 columns]"
      ]
     },
     "execution_count": 2,
     "metadata": {},
     "output_type": "execute_result"
    }
   ],
   "source": [
    "df=pd.read_csv(r'C:\\Users\\RafoffTech\\Documents\\IMDB-Movie-Data.csv')\n",
    "df"
   ]
  },
  {
   "cell_type": "markdown",
   "id": "fbfa56fc-8c57-4e0d-8bb7-3a3da425ae00",
   "metadata": {},
   "source": [
    "# 1. Which year Has The Highest Average Voting?"
   ]
  },
  {
   "cell_type": "code",
   "execution_count": 3,
   "id": "1a2224e7-cc74-40b6-b29a-1e0c3a432e40",
   "metadata": {
    "tags": []
   },
   "outputs": [
    {
     "name": "stdout",
     "output_type": "stream",
     "text": [
      "The year with the highest average voting is: 2012\n"
     ]
    }
   ],
   "source": [
    "highest_average_voting_year=df.groupby('Year')['Votes'].mean().idxmax()\n",
    "print(\"The year with the highest average voting is:\", highest_average_voting_year)"
   ]
  },
  {
   "cell_type": "markdown",
   "id": "da29f55e-5c9a-4421-918e-82ab09b7000d",
   "metadata": {},
   "source": [
    " # 2.In which year there was the Highest Average Revenue?"
   ]
  },
  {
   "cell_type": "code",
   "execution_count": 4,
   "id": "c013c5a9-e2af-4df6-b484-9caef5e49869",
   "metadata": {
    "tags": []
   },
   "outputs": [
    {
     "name": "stdout",
     "output_type": "stream",
     "text": [
      "The year with the highest average revenue is: 2009\n"
     ]
    }
   ],
   "source": [
    "highest_average_revenue_year = df.groupby('Year')['Revenue (Millions)'].mean().idxmax()\n",
    "print(\"The year with the highest average revenue is:\", highest_average_revenue_year)"
   ]
  },
  {
   "cell_type": "markdown",
   "id": "c2425775-c118-43e0-8563-56cbd6491840",
   "metadata": {},
   "source": [
    "# 3.Average Rating By Direction"
   ]
  },
  {
   "cell_type": "code",
   "execution_count": 5,
   "id": "12facf5c-be22-499d-be85-96258fc122a5",
   "metadata": {
    "tags": []
   },
   "outputs": [
    {
     "name": "stdout",
     "output_type": "stream",
     "text": [
      "Director\n",
      "Aamir Khan             8.50\n",
      "Abdellatif Kechiche    7.80\n",
      "Adam Leon              6.50\n",
      "Adam McKay             7.00\n",
      "Adam Shankman          6.30\n",
      "                       ... \n",
      "Xavier Dolan           7.55\n",
      "Yimou Zhang            6.10\n",
      "Yorgos Lanthimos       7.20\n",
      "Zack Snyder            7.04\n",
      "Zackary Adler          5.10\n",
      "Name: Rating, Length: 644, dtype: float64\n"
     ]
    }
   ],
   "source": [
    "average_rating_by_director = df.groupby('Director')['Rating'].mean()\n",
    "print(average_rating_by_director)"
   ]
  },
  {
   "cell_type": "markdown",
   "id": "6a3816af-024d-461f-8897-fa29fb13d6bd",
   "metadata": {},
   "source": [
    "# 4. Display Top 10 Lengthy Movies Titles and Runtime\n"
   ]
  },
  {
   "cell_type": "code",
   "execution_count": 28,
   "id": "8c48a24d-4fa1-40cf-88c4-039b737a4cac",
   "metadata": {
    "tags": []
   },
   "outputs": [
    {
     "name": "stdout",
     "output_type": "stream",
     "text": [
      "                                        Title  Runtime (Minutes)\n",
      "828                                Grindhouse                191\n",
      "88                          The Hateful Eight                187\n",
      "965                             Inland Empire                180\n",
      "311                            La vie d'Adèle                180\n",
      "82                    The Wolf of Wall Street                180\n",
      "267                               Cloud Atlas                172\n",
      "430                                  3 Idiots                170\n",
      "75   Pirates of the Caribbean: At World's End                169\n",
      "271         The Hobbit: An Unexpected Journey                169\n",
      "36                               Interstellar                169\n"
     ]
    },
    {
     "data": {
      "image/png": "[encoded data removed]",
      "text/plain": [
       "<Figure size 1000x600 with 1 Axes>"
      ]
     },
     "metadata": {},
     "output_type": "display_data"
    }
   ],
   "source": [
    "top_10_lengthy_movies = df[['Title', 'Runtime (Minutes)']].sort_values(by='Runtime (Minutes)', ascending=False).head(10)\n",
    "print(top_10_lengthy_movies)\n",
    "movie_count_per_year = df['Year'].value_counts().sort_index()\n",
    "\n",
    "# Create a bar plot to visualize the number of movies per year\n",
    "plt.figure(figsize=(10, 6))\n",
    "sns.barplot(x=movie_count_per_year.index, y=movie_count_per_year.values, palette='viridis')\n",
    "plt.title(\"TOP 10 lengthy Movies And Their Runtime\")\n",
    "plt.xlabel(\"Year\")\n",
    "plt.ylabel(\"Number of Movies\")\n",
    "plt.xticks(rotation=45)\n",
    "plt.show()\n"
   ]
  },
  {
   "cell_type": "markdown",
   "id": "23a06627-6e47-44e1-97fd-60cb49f3b381",
   "metadata": {},
   "source": [
    "# 5. Display Number Of Movies Per Year"
   ]
  },
  {
   "cell_type": "code",
   "execution_count": 26,
   "id": "3f6c95e2-1fcd-4f9c-a62b-7c8cc4b0d1f5",
   "metadata": {
    "tags": []
   },
   "outputs": [
    {
     "name": "stdout",
     "output_type": "stream",
     "text": [
      "Year\n",
      "2016    297\n",
      "2015    127\n",
      "2014     98\n",
      "2013     91\n",
      "2012     64\n",
      "2011     63\n",
      "2010     60\n",
      "2007     53\n",
      "2008     52\n",
      "2009     51\n",
      "2006     44\n",
      "Name: count, dtype: int64\n"
     ]
    },
    {
     "data": {
      "image/png": "[encoded data removed]",
      "text/plain": [
       "<Figure size 1000x600 with 1 Axes>"
      ]
     },
     "metadata": {},
     "output_type": "display_data"
    }
   ],
   "source": [
    "movie_count_per_year = df['Year'].value_counts()\n",
    "print(movie_count_per_year)\n",
    "\n",
    "movie_count_per_year = df['Year'].value_counts().sort_index()\n",
    "\n",
    "# Create a bar plot to visualize the number of movies per year\n",
    "plt.figure(figsize=(10, 6))\n",
    "sns.barplot(x=movie_count_per_year.index, y=movie_count_per_year.values, palette='viridis')\n",
    "plt.title(\"Number of Movies Per Year\")\n",
    "plt.xlabel(\"Year\")\n",
    "plt.ylabel(\"Number of Movies\")\n",
    "plt.xticks(rotation=45)\n",
    "plt.show()"
   ]
  },
  {
   "cell_type": "markdown",
   "id": "74fef98c-2049-4e84-a252-c351b9a39448",
   "metadata": {},
   "source": [
    "# 6. To Find The Most Popular Movie Title"
   ]
  },
  {
   "cell_type": "code",
   "execution_count": 8,
   "id": "9f673724-7610-4fd2-93b6-9f7885593b8f",
   "metadata": {
    "tags": []
   },
   "outputs": [
    {
     "data": {
      "text/plain": [
       "'The Dark Knight'"
      ]
     },
     "execution_count": 8,
     "metadata": {},
     "output_type": "execute_result"
    }
   ],
   "source": [
    "df[df['Votes'] == df['Votes'].max()]['Title'].values[0]\n"
   ]
  },
  {
   "cell_type": "markdown",
   "id": "f2929e75-b578-4c1a-8d49-235e92c1181f",
   "metadata": {},
   "source": [
    "# 7. Display Top 10 Highest Rated Movie Titles And Its"
   ]
  },
  {
   "cell_type": "code",
   "execution_count": 23,
   "id": "b24017d1-29af-4bd2-8ca1-361004016ffb",
   "metadata": {
    "tags": []
   },
   "outputs": [
    {
     "name": "stdout",
     "output_type": "stream",
     "text": [
      "7. Top 10 highest-rated movie titles and their directors:\n",
      "                     Title           Director\n",
      "54         The Dark Knight  Christopher Nolan\n",
      "80               Inception  Christopher Nolan\n",
      "117                 Dangal      Nitesh Tiwari\n",
      "36            Interstellar  Christopher Nolan\n",
      "96           Kimi no na wa     Makoto Shinkai\n",
      "249       The Intouchables    Olivier Nakache\n",
      "64            The Prestige  Christopher Nolan\n",
      "99            The Departed    Martin Scorsese\n",
      "124  The Dark Knight Rises  Christopher Nolan\n",
      "133               Whiplash    Damien Chazelle\n"
     ]
    },
    {
     "data": {
      "image/png": "[encoded data removed]",
      "text/plain": [
       "<Figure size 1000x600 with 1 Axes>"
      ]
     },
     "metadata": {},
     "output_type": "display_data"
    }
   ],
   "source": [
    "top_10_highest_rated_movies = df.nlargest(10, 'Rating')[['Title', 'Director']]\n",
    "print(\"7. Top 10 highest-rated movie titles and their directors:\")\n",
    "print(top_10_highest_rated_movies)\n",
    "\n",
    " \n",
    "top_10_highest_rated_movies = df.nlargest(10, 'Rating')\n",
    "\n",
    "# Create a bar plot to visualize the top 10 highest-rated movies\n",
    "plt.figure(figsize=(10, 6))\n",
    "sns.barplot(x='Rating', y='Title', data=top_10_highest_rated_movies, palette='viridis')\n",
    "plt.title(\"Top 10 Highest-Rated Movies\")\n",
    "plt.xlabel(\"Rating\")\n",
    "plt.ylabel(\"Title\")\n",
    "plt.show()"
   ]
  },
  {
   "cell_type": "markdown",
   "id": "6b9e10cb-7223-41f5-a0a4-0b6174513393",
   "metadata": {},
   "source": [
    "# 8. Top 10 highest revenue movie titles"
   ]
  },
  {
   "cell_type": "code",
   "execution_count": 10,
   "id": "3fae8b04-3e0d-49e2-a1f8-5bdcb07437e0",
   "metadata": {},
   "outputs": [
    {
     "name": "stdout",
     "output_type": "stream",
     "text": [
      "8. Top 10 highest revenue movie titles:\n",
      "                                          Title\n",
      "50   Star Wars: Episode VII - The Force Awakens\n",
      "87                                       Avatar\n",
      "85                               Jurassic World\n",
      "76                                 The Avengers\n",
      "54                              The Dark Knight\n",
      "12                                    Rogue One\n",
      "119                                Finding Dory\n",
      "94                      Avengers: Age of Ultron\n",
      "124                       The Dark Knight Rises\n",
      "578             The Hunger Games: Catching Fire\n"
     ]
    }
   ],
   "source": [
    " top_10_highest_revenue_movies = df.nlargest(10, 'Revenue (Millions)')[['Title']]\n",
    "print(\"8. Top 10 highest revenue movie titles:\")\n",
    "print(top_10_highest_revenue_movies)"
   ]
  },
  {
   "cell_type": "code",
   "execution_count": null,
   "id": "477c6759-4080-4d5e-8da5-bbd924abf63f",
   "metadata": {
    "tags": []
   },
   "outputs": [],
   "source": [
    "data = {\n",
    "    'Title': ['Guardians of the Galaxy', 'Prometheus', 'Split', 'Sing', 'Suicide Squad'],\n",
    "    'Revenue (Millions)': [333.13, 126.46, 138.12, 270.32, 325.02]\n",
    "}\n",
    "\n",
    "df = pd.DataFrame(data)\n",
    "\n",
    "# Sort the DataFrame by revenue in descending order\n",
    "df = df.sort_values(by='Revenue (Millions)', ascending=False)\n",
    "\n",
    "# Create a bar plot using Seaborn\n",
    "plt.figure(figsize=(10, 6))\n",
    "sns.barplot(x='Revenue (Millions)', y='Title', data=df.head(10), palette='viridis')\n",
    "plt.title(\"Top 10 Highest Revenue Movies\")\n",
    "plt.xlabel(\"Revenue (Millions)\")\n",
    "plt.ylabel(\"Title\")\n",
    "plt.show()\n",
    "This code will generate a bar plot using Seaborn, showing the top 10 highest revenue movie titles. Make sure you have the 'pandas', 'seaborn', and 'matplotlib' libraries installed to run this code.\n"
   ]
  },
  {
   "cell_type": "code",
   "execution_count": null,
   "id": "e8f6cf6e-4141-4b7a-ab1f-31f9ac9241f8",
   "metadata": {},
   "outputs": [],
   "source": []
  },
  {
   "cell_type": "markdown",
   "id": "aefe94d2-393b-4f9a-98b7-ec27b101748c",
   "metadata": {},
   "source": [
    "# 9. Find The Average Rating Of Movies Year Wise"
   ]
  },
  {
   "cell_type": "code",
   "execution_count": 11,
   "id": "e76b382a-aea0-41ba-8ca8-208ffa4a3b4d",
   "metadata": {},
   "outputs": [
    {
     "name": "stdout",
     "output_type": "stream",
     "text": [
      "9. Average rating of movies year-wise:\n",
      "Year\n",
      "2006    7.125000\n",
      "2007    7.133962\n",
      "2008    6.784615\n",
      "2009    6.960784\n",
      "2010    6.826667\n",
      "2011    6.838095\n",
      "2012    6.925000\n",
      "2013    6.812088\n",
      "2014    6.837755\n",
      "2015    6.602362\n",
      "2016    6.436700\n",
      "Name: Rating, dtype: float64\n"
     ]
    }
   ],
   "source": [
    "average_rating_year_wise = df.groupby('Year')['Rating'].mean()\n",
    "print(\"9. Average rating of movies year-wise:\")\n",
    "print(average_rating_year_wise)"
   ]
  },
  {
   "cell_type": "markdown",
   "id": "b71d46a0-e7be-4be3-a9b0-bb95cdd9ef6c",
   "metadata": {},
   "source": [
    "# 10. Classify The Movies Based On Ratings(Excellent,Good and Average)\n",
    " "
   ]
  },
  {
   "cell_type": "code",
   "execution_count": 16,
   "id": "be0985a2-49c1-41d4-a03d-f0390e7e6c64",
   "metadata": {
    "tags": []
   },
   "outputs": [
    {
     "name": "stdout",
     "output_type": "stream",
     "text": [
      "10. Movies classified by rating:\n",
      "                       Title Rating Classification\n",
      "0    Guardians of the Galaxy             Excellent\n",
      "1                 Prometheus                  Good\n",
      "2                      Split                  Good\n",
      "3                       Sing                  Good\n",
      "4              Suicide Squad                  Good\n",
      "..                       ...                   ...\n",
      "995     Secret in Their Eyes                  Good\n",
      "996          Hostel: Part II               Average\n",
      "997   Step Up 2: The Streets                  Good\n",
      "998             Search Party               Average\n",
      "999               Nine Lives               Average\n",
      "\n",
      "[1000 rows x 2 columns]\n"
     ]
    }
   ],
   "source": [
    "def classify_rating(rating):\n",
    "    if rating >= 8:\n",
    "        return \"Excellent\"\n",
    "    if rating >= 6:\n",
    "        return \"Good\"\n",
    "    else:\n",
    "        return \"Average\"\n",
    "\n",
    "df['Rating Classification'] = df['Rating'].apply(classify_rating)\n",
    "print(\"10. Movies classified by rating:\")\n",
    "print(df[['Title', 'Rating Classification']])"
   ]
  },
  {
   "cell_type": "markdown",
   "id": "6a95d7fd-b255-4297-b43f-9c527c46b4fb",
   "metadata": {},
   "source": [
    "# 11. Count the Number Of Action Movies"
   ]
  },
  {
   "cell_type": "code",
   "execution_count": 17,
   "id": "89f48a23-2e14-4902-8275-98a2f5c4f248",
   "metadata": {},
   "outputs": [
    {
     "name": "stdout",
     "output_type": "stream",
     "text": [
      "11. Number of action movies: 303\n"
     ]
    }
   ],
   "source": [
    " def count_action_movies(genre):\n",
    "    return genre.lower().count('action')\n",
    "\n",
    "num_action_movies = df['Genre'].apply(count_action_movies).sum()\n",
    "print(\"11. Number of action movies:\", num_action_movies)"
   ]
  },
  {
   "cell_type": "markdown",
   "id": "70fed8de-be9f-4de2-be58-a8ebec8ac54d",
   "metadata": {},
   "source": [
    "# 12. Find Unique Values From Genre"
   ]
  },
  {
   "cell_type": "code",
   "execution_count": 19,
   "id": "1bdd8f2c-397e-40c0-a665-1324174f46d3",
   "metadata": {
    "tags": []
   },
   "outputs": [
    {
     "name": "stdout",
     "output_type": "stream",
     "text": [
      "12. Unique values from Genre:\n",
      "['Action' 'Adventure' 'Sci-Fi' 'Mystery' 'Horror' 'Thriller' 'Animation'\n",
      " 'Comedy' 'Family' 'Fantasy' 'Drama' 'Music' 'Biography' 'Romance'\n",
      " 'History' 'Crime' 'Western' 'War' 'Musical' 'Sport']\n"
     ]
    }
   ],
   "source": [
    "unique_genres = df['Genre'].str.split(',').explode().str.strip().unique()\n",
    "print(\"12. Unique values from Genre:\")\n",
    "print(unique_genres)"
   ]
  },
  {
   "cell_type": "markdown",
   "id": "c07c7d9c-4397-46eb-a49d-9a94bab37ecc",
   "metadata": {},
   "source": [
    "# 13. Top 5 Most Streamed Genre"
   ]
  },
  {
   "cell_type": "code",
   "execution_count": 25,
   "id": "7927c24e-3956-48e3-a992-61727d6cff0b",
   "metadata": {
    "tags": []
   },
   "outputs": [
    {
     "data": {
      "image/png": "[encoded data removed]",
      "text/plain": [
       "<Figure size 1000x600 with 1 Axes>"
      ]
     },
     "metadata": {},
     "output_type": "display_data"
    }
   ],
   "source": [
    "\n",
    "genre_split = df['Genre'].str.split(',')\n",
    "\n",
    "# Create a list of all genres\n",
    "all_genres = [genre for genres in genre_split for genre in genres]\n",
    "\n",
    "# Create a Series from the list of genres and count the occurrences of each genre\n",
    "genre_counts = pd.Series(all_genres).value_counts()\n",
    "\n",
    "# Select the top 5 most common genres\n",
    "top_5_genres = genre_counts.head(5)\n",
    "\n",
    "# Visualize the top 5 most common genres\n",
    "plt.figure(figsize=(10, 6))\n",
    "sns.barplot(x=top_5_genres.values, y=top_5_genres.index, palette='viridis')\n",
    "plt.title(\"Top 5 Most Streamed Movie Genres\")\n",
    "plt.xlabel(\"Count\")\n",
    "plt.ylabel(\"Genre\")\n",
    "plt.show()"
   ]
  },
  {
   "cell_type": "code",
   "execution_count": null,
   "id": "373e4bc1-b563-49ad-9d9f-433b12c92c7f",
   "metadata": {},
   "outputs": [],
   "source": []
  }
 ],
 "metadata": {
  "kernelspec": {
   "display_name": "Python 3 (ipykernel)",
   "language": "python",
   "name": "python3"
  },
  "language_info": {
   "codemirror_mode": {
    "name": "ipython",
    "version": 3
   },
   "file_extension": ".py",
   "mimetype": "text/x-python",
   "name": "python",
   "nbconvert_exporter": "python",
   "pygments_lexer": "ipython3",
   "version": "3.11.5"
  },
  "toc-showcode": true
 },
 "nbformat": 4,
 "nbformat_minor": 5
}
